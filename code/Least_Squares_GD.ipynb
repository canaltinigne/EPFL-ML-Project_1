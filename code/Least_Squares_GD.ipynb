{
 "cells": [
  {
   "cell_type": "markdown",
   "metadata": {},
   "source": [
    "# Linear Regression"
   ]
  },
  {
   "cell_type": "code",
   "execution_count": 1,
   "metadata": {},
   "outputs": [],
   "source": [
    "%matplotlib inline\n",
    "import numpy as np\n",
    "from cross_validation import cross_validation\n",
    "from polynomial import build_poly\n",
    "import matplotlib.pyplot as plt"
   ]
  },
  {
   "cell_type": "code",
   "execution_count": 2,
   "metadata": {},
   "outputs": [
    {
     "name": "stdout",
     "output_type": "stream",
     "text": [
      "(250000, 14)\n",
      "(250000,)\n"
     ]
    }
   ],
   "source": [
    "X_train = np.load(\"X_train_normalized.npy\")\n",
    "y_train = np.load(\"y_train_1-1.npy\")\n",
    "print(X_train.shape)\n",
    "print(y_train.shape)"
   ]
  },
  {
   "cell_type": "markdown",
   "metadata": {},
   "source": [
    "# Splitting into 3 subsets\n",
    "\n",
    "We split the dataset using PRI_jet_num column"
   ]
  },
  {
   "cell_type": "code",
   "execution_count": 3,
   "metadata": {},
   "outputs": [],
   "source": [
    "X_pri_0 = X_train[(X_train[:, -2] == 0), :]\n",
    "X_pri_1 = X_train[(X_train[:, -2] == 1), :]\n",
    "X_pri_23 = X_train[(X_train[:, -2] == 2) | (X_train[:, -2] == 3), :]\n",
    "\n",
    "y_pri_0 = y_train[(X_train[:, -2] == 0)]\n",
    "y_pri_1 = y_train[(X_train[:, -2] == 1)]\n",
    "y_pri_23 = y_train[(X_train[:, -2] == 2) | (X_train[:, -2] == 3)]"
   ]
  },
  {
   "cell_type": "code",
   "execution_count": 4,
   "metadata": {},
   "outputs": [
    {
     "name": "stdout",
     "output_type": "stream",
     "text": [
      "PRI_0: (99913, 13)\n",
      "PRI_1: (77544, 13)\n",
      "PRI_23: (72543, 13)\n",
      "\n",
      "y_PRI_0: (99913,)\n",
      "y_PRI_1: (77544,)\n",
      "y_PRI_23: (72543,)\n"
     ]
    }
   ],
   "source": [
    "X_pri_0 = np.delete(X_pri_0, np.s_[12], axis=1)\n",
    "X_pri_1 = np.delete(X_pri_1, np.s_[12], axis=1)\n",
    "X_pri_23 = np.delete(X_pri_23, np.s_[12], axis=1)\n",
    "\n",
    "print(\"PRI_0: {}\".format(X_pri_0.shape))\n",
    "print(\"PRI_1: {}\".format(X_pri_1.shape))\n",
    "print(\"PRI_23: {}\".format(X_pri_23.shape))\n",
    "\n",
    "print(\"\\ny_PRI_0: {}\".format(y_pri_0.shape))\n",
    "print(\"y_PRI_1: {}\".format(y_pri_1.shape))\n",
    "print(\"y_PRI_23: {}\".format(y_pri_23.shape))"
   ]
  },
  {
   "cell_type": "code",
   "execution_count": 5,
   "metadata": {},
   "outputs": [
    {
     "name": "stdout",
     "output_type": "stream",
     "text": [
      "[ 0  1  3  4  5  6  9 10 11 12 13 21 23]\n"
     ]
    }
   ],
   "source": [
    "selected_features = np.array([1,3,9,10,11,13,21,23])\n",
    "selected_features = np.sort(np.append(selected_features, [0,4,5,6,12]))\n",
    "print(selected_features)"
   ]
  },
  {
   "cell_type": "code",
   "execution_count": 6,
   "metadata": {},
   "outputs": [
    {
     "data": {
      "text/plain": [
       "[3, 4, 5, 9, 12]"
      ]
     },
     "execution_count": 6,
     "metadata": {},
     "output_type": "execute_result"
    }
   ],
   "source": [
    "delete_columns_0 = []\n",
    "\n",
    "for i in range(X_pri_0.shape[1]):\n",
    "    if np.isin(True, (X_pri_0[:,i] == -999)):\n",
    "        delete_columns_0.append(i)\n",
    "        \n",
    "delete_columns_0"
   ]
  },
  {
   "cell_type": "code",
   "execution_count": 7,
   "metadata": {},
   "outputs": [
    {
     "data": {
      "text/plain": [
       "[3, 4, 5, 9]"
      ]
     },
     "execution_count": 7,
     "metadata": {},
     "output_type": "execute_result"
    }
   ],
   "source": [
    "delete_columns_1 = []\n",
    "\n",
    "for i in range(X_pri_1.shape[1]):\n",
    "    if np.isin(True, (X_pri_1[:,i] == -999)):\n",
    "        delete_columns_1.append(i)\n",
    "        \n",
    "delete_columns_1"
   ]
  },
  {
   "cell_type": "code",
   "execution_count": 8,
   "metadata": {},
   "outputs": [
    {
     "data": {
      "text/plain": [
       "(99913, 8)"
      ]
     },
     "execution_count": 8,
     "metadata": {},
     "output_type": "execute_result"
    }
   ],
   "source": [
    "X_pri_0 = np.delete(X_pri_0, np.s_[delete_columns_0], axis=1)  \n",
    "X_pri_0.shape"
   ]
  },
  {
   "cell_type": "code",
   "execution_count": 9,
   "metadata": {},
   "outputs": [
    {
     "data": {
      "text/plain": [
       "(77544, 9)"
      ]
     },
     "execution_count": 9,
     "metadata": {},
     "output_type": "execute_result"
    }
   ],
   "source": [
    "X_pri_1 = np.delete(X_pri_1, np.s_[delete_columns_1], axis=1)  \n",
    "X_pri_1.shape"
   ]
  },
  {
   "cell_type": "code",
   "execution_count": 10,
   "metadata": {},
   "outputs": [
    {
     "name": "stdout",
     "output_type": "stream",
     "text": [
      "PRI_0: (99913, 8)\n",
      "PRI_1: (77544, 9)\n",
      "PRI_23: (72543, 13)\n"
     ]
    }
   ],
   "source": [
    "print(\"PRI_0: {}\".format(X_pri_0.shape))\n",
    "print(\"PRI_1: {}\".format(X_pri_1.shape))\n",
    "print(\"PRI_23: {}\".format(X_pri_23.shape))"
   ]
  },
  {
   "cell_type": "markdown",
   "metadata": {},
   "source": [
    "## Model training\n",
    "\n",
    "Degrees are selected in accordance with the results in Least Squares with Normal Equations.\n",
    "\n",
    "### Training for PRI_0 subset\n",
    "\n",
    "Optimum degree = 10"
   ]
  },
  {
   "cell_type": "code",
   "execution_count": 11,
   "metadata": {},
   "outputs": [
    {
     "name": "stdout",
     "output_type": "stream",
     "text": [
      "[1.e-06 1.e-05 1.e-04 1.e-03 1.e-02 1.e-01]\n"
     ]
    }
   ],
   "source": [
    "degrees = [10]\n",
    "max_iter = [1000]\n",
    "gamma = np.logspace(-6,-1,6)\n",
    "print(gamma)\n",
    "pars = {'degrees': degrees,\n",
    "       'max_iter': max_iter,\n",
    "       'gamma': gamma}"
   ]
  },
  {
   "cell_type": "code",
   "execution_count": 12,
   "metadata": {},
   "outputs": [
    {
     "name": "stdout",
     "output_type": "stream",
     "text": [
      "deg:10-itr:1000-gam:1e-06 completed\n",
      "deg:10-itr:1000-gam:1e-05 completed\n",
      "deg:10-itr:1000-gam:0.0001 completed\n",
      "deg:10-itr:1000-gam:0.001 completed\n",
      "deg:10-itr:1000-gam:0.01 completed\n",
      "deg:10-itr:1000-gam:0.1 completed\n"
     ]
    }
   ],
   "source": [
    "pri0_tr_acc, pri0_te_acc = cross_validation(y_pri_0, X_pri_0, 3, h_pars=pars, model='linear')"
   ]
  },
  {
   "cell_type": "code",
   "execution_count": 13,
   "metadata": {},
   "outputs": [
    {
     "data": {
      "text/plain": [
       "array([[1.00000000e+03, 1.00000000e-06, 1.00000000e+01, 7.44855473e-01],\n",
       "       [1.00000000e+03, 1.00000000e-05, 1.00000000e+01, 7.44855473e-01],\n",
       "       [1.00000000e+03, 1.00000000e-04, 1.00000000e+01, 7.44855473e-01],\n",
       "       [1.00000000e+03, 1.00000000e-03, 1.00000000e+01, 7.44375050e-01],\n",
       "       [1.00000000e+03, 1.00000000e-02, 1.00000000e+01, 7.37829290e-01],\n",
       "       [1.00000000e+03, 1.00000000e-01, 1.00000000e+01, 7.59368244e-01]])"
      ]
     },
     "execution_count": 13,
     "metadata": {},
     "output_type": "execute_result"
    }
   ],
   "source": [
    "pri0_te_acc"
   ]
  },
  {
   "cell_type": "code",
   "execution_count": 14,
   "metadata": {},
   "outputs": [
    {
     "data": {
      "text/plain": [
       "<matplotlib.legend.Legend at 0x10f9f3470>"
      ]
     },
     "execution_count": 14,
     "metadata": {},
     "output_type": "execute_result"
    },
    {
     "data": {
      "image/png": "[encoded data removed]",
      "text/plain": [
       "<matplotlib.figure.Figure at 0x112507908>"
      ]
     },
     "metadata": {},
     "output_type": "display_data"
    }
   ],
   "source": [
    "plt.plot(pri0_tr_acc[:,1], pri0_tr_acc[:,3], label='Training Accuracy')\n",
    "plt.plot(pri0_te_acc[:,1], pri0_te_acc[:,3], label='Validation Accuracy')\n",
    "plt.xlabel('Learning Rate')\n",
    "plt.ylabel('Accuracy')\n",
    "plt.xscale('log')\n",
    "plt.legend()"
   ]
  },
  {
   "cell_type": "code",
   "execution_count": 24,
   "metadata": {},
   "outputs": [],
   "source": [
    "from implementationsentationsentations import least_squares_GD"
   ]
  },
  {
   "cell_type": "code",
   "execution_count": 21,
   "metadata": {},
   "outputs": [],
   "source": [
    "degrees = [10]\n",
    "max_iter = [10000]\n",
    "gamma = [1e-2]\n",
    "\n",
    "pars = {'degrees': degrees,\n",
    "       'max_iter': max_iter,\n",
    "       'gamma': gamma}"
   ]
  },
  {
   "cell_type": "code",
   "execution_count": 22,
   "metadata": {},
   "outputs": [
    {
     "name": "stdout",
     "output_type": "stream",
     "text": [
      "deg:10-itr:10000-gam:0.01 completed\n"
     ]
    }
   ],
   "source": [
    "pri0_tr_acc, pri0_te_acc = cross_validation(y_pri_0, X_pri_0, 3, h_pars=pars, model='linear')"
   ]
  },
  {
   "cell_type": "code",
   "execution_count": 27,
   "metadata": {},
   "outputs": [
    {
     "data": {
      "text/plain": [
       "0.7593682440547681"
      ]
     },
     "execution_count": 27,
     "metadata": {},
     "output_type": "execute_result"
    }
   ],
   "source": [
    "pri0_te_acc[0,3]"
   ]
  },
  {
   "cell_type": "code",
   "execution_count": 25,
   "metadata": {},
   "outputs": [],
   "source": [
    "np.random.seed(23)\n",
    "initial_w = np.random.normal(0,1,build_poly(X_pri_0, 10).shape[1]).reshape(-1,1)#\n",
    "\n",
    "w, losses = least_squares_GD(y_pri_0, build_poly(X_pri_0,10), initial_w, 10000, 1e-2)"
   ]
  },
  {
   "cell_type": "code",
   "execution_count": 28,
   "metadata": {},
   "outputs": [
    {
     "data": {
      "text/plain": [
       "Text(0,0.5,'Mean Squared Loss')"
      ]
     },
     "execution_count": 28,
     "metadata": {},
     "output_type": "execute_result"
    },
    {
     "data": {
      "image/png": "[encoded data removed]",
      "text/plain": [
       "<matplotlib.figure.Figure at 0x116d47b00>"
      ]
     },
     "metadata": {},
     "output_type": "display_data"
    }
   ],
   "source": [
    "plt.plot(losses)\n",
    "plt.xlabel('Epoch')\n",
    "plt.ylabel('Mean Squared Loss')"
   ]
  },
  {
   "cell_type": "markdown",
   "metadata": {},
   "source": [
    "### Training for PRI_1 subset\n",
    "\n",
    "Optimum degree = 9"
   ]
  },
  {
   "cell_type": "code",
   "execution_count": 15,
   "metadata": {},
   "outputs": [
    {
     "name": "stdout",
     "output_type": "stream",
     "text": [
      "deg:9-itr:1000-gam:1e-06 completed\n",
      "deg:9-itr:1000-gam:1e-05 completed\n",
      "deg:9-itr:1000-gam:0.0001 completed\n",
      "deg:9-itr:1000-gam:0.001 completed\n",
      "deg:9-itr:1000-gam:0.01 completed\n",
      "deg:9-itr:1000-gam:0.1 completed\n"
     ]
    }
   ],
   "source": [
    "degrees = [9]\n",
    "\n",
    "pars = {'degrees': degrees,\n",
    "       'max_iter': max_iter,\n",
    "       'gamma': gamma}\n",
    "\n",
    "pri1_tr_acc, pri1_te_acc = cross_validation(y_pri_1, X_pri_1, 3, h_pars=pars, model='linear')"
   ]
  },
  {
   "cell_type": "code",
   "execution_count": 16,
   "metadata": {},
   "outputs": [
    {
     "data": {
      "text/plain": [
       "array([[1.00000000e+03, 1.00000000e-06, 9.00000000e+00, 3.61007944e-01],\n",
       "       [1.00000000e+03, 1.00000000e-05, 9.00000000e+00, 3.60762922e-01],\n",
       "       [1.00000000e+03, 1.00000000e-04, 9.00000000e+00, 3.59679666e-01],\n",
       "       [1.00000000e+03, 1.00000000e-03, 9.00000000e+00, 3.53102755e-01],\n",
       "       [1.00000000e+03, 1.00000000e-02, 9.00000000e+00, 6.26147735e-01],\n",
       "       [1.00000000e+03, 1.00000000e-01, 9.00000000e+00, 6.96095120e-01]])"
      ]
     },
     "execution_count": 16,
     "metadata": {},
     "output_type": "execute_result"
    }
   ],
   "source": [
    "pri1_te_acc"
   ]
  },
  {
   "cell_type": "code",
   "execution_count": 17,
   "metadata": {},
   "outputs": [
    {
     "data": {
      "text/plain": [
       "<matplotlib.legend.Legend at 0x114ad7e10>"
      ]
     },
     "execution_count": 17,
     "metadata": {},
     "output_type": "execute_result"
    },
    {
     "data": {
      "image/png": "[encoded data removed]",
      "text/plain": [
       "<matplotlib.figure.Figure at 0x114b9c6a0>"
      ]
     },
     "metadata": {},
     "output_type": "display_data"
    }
   ],
   "source": [
    "plt.plot(pri1_tr_acc[:,1], pri1_tr_acc[:,3], label='Training Accuracy')\n",
    "plt.plot(pri1_te_acc[:,1], pri1_te_acc[:,3], label='Validation Accuracy')\n",
    "plt.xlabel('Learning Rate')\n",
    "plt.ylabel('Accuracy')\n",
    "plt.xscale('log')\n",
    "plt.legend()"
   ]
  },
  {
   "cell_type": "code",
   "execution_count": 29,
   "metadata": {},
   "outputs": [],
   "source": [
    "degrees = [9]\n",
    "max_iter = [10000]\n",
    "gamma = [1e-1]\n",
    "\n",
    "pars = {'degrees': degrees,\n",
    "       'max_iter': max_iter,\n",
    "       'gamma': gamma}"
   ]
  },
  {
   "cell_type": "code",
   "execution_count": 30,
   "metadata": {},
   "outputs": [
    {
     "name": "stdout",
     "output_type": "stream",
     "text": [
      "deg:9-itr:10000-gam:0.1 completed\n"
     ]
    }
   ],
   "source": [
    "pri1_tr_acc, pri1_te_acc = cross_validation(y_pri_1, X_pri_1, 3, h_pars=pars, model='linear')"
   ]
  },
  {
   "cell_type": "code",
   "execution_count": 31,
   "metadata": {},
   "outputs": [
    {
     "data": {
      "text/plain": [
       "0.7088104817909832"
      ]
     },
     "execution_count": 31,
     "metadata": {},
     "output_type": "execute_result"
    }
   ],
   "source": [
    "pri1_te_acc[0,3]"
   ]
  },
  {
   "cell_type": "code",
   "execution_count": 32,
   "metadata": {},
   "outputs": [],
   "source": [
    "np.random.seed(23)\n",
    "initial_w = np.random.normal(0,1,build_poly(X_pri_1, 9).shape[1]).reshape(-1,1)#\n",
    "w, losses = least_squares_GD(y_pri_1, build_poly(X_pri_1,9), initial_w, 10000, 1e-1)"
   ]
  },
  {
   "cell_type": "code",
   "execution_count": 33,
   "metadata": {},
   "outputs": [
    {
     "data": {
      "text/plain": [
       "Text(0,0.5,'Mean Squared Loss')"
      ]
     },
     "execution_count": 33,
     "metadata": {},
     "output_type": "execute_result"
    },
    {
     "data": {
      "image/png": "[encoded data removed]",
      "text/plain": [
       "<matplotlib.figure.Figure at 0x116c3bd68>"
      ]
     },
     "metadata": {},
     "output_type": "display_data"
    }
   ],
   "source": [
    "plt.plot(losses)\n",
    "plt.xlabel('Epoch')\n",
    "plt.ylabel('Mean Squared Loss')"
   ]
  },
  {
   "cell_type": "markdown",
   "metadata": {},
   "source": [
    "### Training for PRI_23 subset\n",
    "\n",
    "Optimum degree = 10"
   ]
  },
  {
   "cell_type": "code",
   "execution_count": 18,
   "metadata": {},
   "outputs": [
    {
     "name": "stdout",
     "output_type": "stream",
     "text": [
      "deg:10-itr:1000-gam:1e-06 completed\n",
      "deg:10-itr:1000-gam:1e-05 completed\n",
      "deg:10-itr:1000-gam:0.0001 completed\n",
      "deg:10-itr:1000-gam:0.001 completed\n",
      "deg:10-itr:1000-gam:0.01 completed\n",
      "deg:10-itr:1000-gam:0.1 completed\n"
     ]
    }
   ],
   "source": [
    "degrees = [10]\n",
    "\n",
    "pars = {'degrees': degrees,\n",
    "       'max_iter': max_iter,\n",
    "       'gamma': gamma}\n",
    "\n",
    "pri23_tr_acc, pri23_te_acc = cross_validation(y_pri_23, X_pri_23, 3, h_pars=pars, model='linear')"
   ]
  },
  {
   "cell_type": "code",
   "execution_count": 19,
   "metadata": {},
   "outputs": [
    {
     "data": {
      "text/plain": [
       "array([[1.00000000e+03, 1.00000000e-06, 1.00000000e+01, 5.07919441e-01],\n",
       "       [1.00000000e+03, 1.00000000e-05, 1.00000000e+01, 5.17072633e-01],\n",
       "       [1.00000000e+03, 1.00000000e-04, 1.00000000e+01, 5.63569193e-01],\n",
       "       [1.00000000e+03, 1.00000000e-03, 1.00000000e+01, 6.31142908e-01],\n",
       "       [1.00000000e+03, 1.00000000e-02, 1.00000000e+01, 6.86227479e-01],\n",
       "       [1.00000000e+03, 1.00000000e-01, 1.00000000e+01, 7.08669341e-01]])"
      ]
     },
     "execution_count": 19,
     "metadata": {},
     "output_type": "execute_result"
    }
   ],
   "source": [
    "pri23_te_acc"
   ]
  },
  {
   "cell_type": "code",
   "execution_count": 20,
   "metadata": {},
   "outputs": [
    {
     "data": {
      "text/plain": [
       "<matplotlib.legend.Legend at 0x1124e4d30>"
      ]
     },
     "execution_count": 20,
     "metadata": {},
     "output_type": "execute_result"
    },
    {
     "data": {
      "image/png": "[encoded data removed]",
      "text/plain": [
       "<matplotlib.figure.Figure at 0x111d90a90>"
      ]
     },
     "metadata": {},
     "output_type": "display_data"
    }
   ],
   "source": [
    "plt.plot(pri23_tr_acc[:,1], pri23_tr_acc[:,3], label='Training Accuracy')\n",
    "plt.plot(pri23_te_acc[:,1], pri23_te_acc[:,3], label='Validation Accuracy')\n",
    "plt.xlabel('Learning Rate')\n",
    "plt.ylabel('Accuracy')\n",
    "plt.xscale('log')\n",
    "plt.legend()"
   ]
  },
  {
   "cell_type": "code",
   "execution_count": 34,
   "metadata": {},
   "outputs": [],
   "source": [
    "degrees = [10]\n",
    "max_iter = [10000]\n",
    "gamma = [1e-1]\n",
    "\n",
    "pars = {'degrees': degrees,\n",
    "       'max_iter': max_iter,\n",
    "       'gamma': gamma}"
   ]
  },
  {
   "cell_type": "code",
   "execution_count": 35,
   "metadata": {},
   "outputs": [
    {
     "name": "stdout",
     "output_type": "stream",
     "text": [
      "deg:10-itr:10000-gam:0.1 completed\n"
     ]
    }
   ],
   "source": [
    "pri23_tr_acc, pri23_te_acc = cross_validation(y_pri_23, X_pri_23, 3, h_pars=pars, model='linear')"
   ]
  },
  {
   "cell_type": "code",
   "execution_count": 36,
   "metadata": {},
   "outputs": [
    {
     "data": {
      "text/plain": [
       "0.7269068001047655"
      ]
     },
     "execution_count": 36,
     "metadata": {},
     "output_type": "execute_result"
    }
   ],
   "source": [
    "pri23_te_acc[0,3]"
   ]
  },
  {
   "cell_type": "code",
   "execution_count": 37,
   "metadata": {},
   "outputs": [],
   "source": [
    "np.random.seed(23)\n",
    "initial_w = np.random.normal(0,1,build_poly(X_pri_23, 10).shape[1]).reshape(-1,1)#\n",
    "w, losses = least_squares_GD(y_pri_23, build_poly(X_pri_23,10), initial_w, 10000, 1e-1)"
   ]
  },
  {
   "cell_type": "code",
   "execution_count": 38,
   "metadata": {},
   "outputs": [
    {
     "data": {
      "text/plain": [
       "Text(0,0.5,'Mean Squared Loss')"
      ]
     },
     "execution_count": 38,
     "metadata": {},
     "output_type": "execute_result"
    },
    {
     "data": {
      "image/png": "[encoded data removed]",
      "text/plain": [
       "<matplotlib.figure.Figure at 0x11559afd0>"
      ]
     },
     "metadata": {},
     "output_type": "display_data"
    }
   ],
   "source": [
    "plt.plot(losses)\n",
    "plt.xlabel('Epoch')\n",
    "plt.ylabel('Mean Squared Loss')"
   ]
  },
  {
   "cell_type": "markdown",
   "metadata": {},
   "source": [
    "# Linear Regression GD - Validation Set Accuracy"
   ]
  },
  {
   "cell_type": "code",
   "execution_count": 39,
   "metadata": {},
   "outputs": [
    {
     "data": {
      "text/plain": [
       "0.7316951753168389"
      ]
     },
     "execution_count": 39,
     "metadata": {},
     "output_type": "execute_result"
    }
   ],
   "source": [
    "np.mean([pri23_te_acc[0,3],\n",
    "        pri1_te_acc[0,3],\n",
    "        pri0_te_acc[0,3]])"
   ]
  }
 ],
 "metadata": {
  "kernelspec": {
   "display_name": "Python 3",
   "language": "python",
   "name": "python3"
  },
  "language_info": {
   "codemirror_mode": {
    "name": "ipython",
    "version": 3
   },
   "file_extension": ".py",
   "mimetype": "text/x-python",
   "name": "python",
   "nbconvert_exporter": "python",
   "pygments_lexer": "ipython3",
   "version": "3.6.4"
  }
 },
 "nbformat": 4,
 "nbformat_minor": 2
}
