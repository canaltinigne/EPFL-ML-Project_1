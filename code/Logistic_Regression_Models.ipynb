{
 "cells": [
  {
   "cell_type": "markdown",
   "metadata": {},
   "source": [
    "# Logistic Regression Models"
   ]
  },
  {
   "cell_type": "code",
   "execution_count": 2,
   "metadata": {},
   "outputs": [],
   "source": [
    "%matplotlib inline\n",
    "import numpy as np\n",
    "from cross_validation import cross_validation\n",
    "from polynomial import build_poly\n",
    "import matplotlib.pyplot as plt\n",
    "from implementations import logistic_regression\n",
    "from proj1_helpers import predict_labels\n",
    "from cross_validation import accuracy"
   ]
  },
  {
   "cell_type": "code",
   "execution_count": 3,
   "metadata": {},
   "outputs": [
    {
     "name": "stdout",
     "output_type": "stream",
     "text": [
      "(250000, 14)\n",
      "(250000,)\n"
     ]
    }
   ],
   "source": [
    "X_train = np.load(\"X_train_normalized.npy\")\n",
    "y_train = np.load(\"y_train_10.npy\")\n",
    "print(X_train.shape)\n",
    "print(y_train.shape)"
   ]
  },
  {
   "cell_type": "markdown",
   "metadata": {},
   "source": [
    "# Splitting into 3 subsets\n",
    "\n",
    "We split the dataset using PRI_jet_num column"
   ]
  },
  {
   "cell_type": "code",
   "execution_count": 4,
   "metadata": {},
   "outputs": [
    {
     "name": "stdout",
     "output_type": "stream",
     "text": [
      "PRI_0: (99913, 14)\n",
      "PRI_1: (77544, 14)\n",
      "PRI_23: (72543, 14)\n",
      "\n",
      "y_PRI_0: (99913,)\n",
      "y_PRI_1: (77544,)\n",
      "y_PRI_23: (72543,)\n"
     ]
    }
   ],
   "source": [
    "X_pri_0 = X_train[(X_train[:, -2] == 0), :]\n",
    "X_pri_1 = X_train[(X_train[:, -2] == 1), :]\n",
    "X_pri_23 = X_train[(X_train[:, -2] == 2) | (X_train[:, -2] == 3), :]\n",
    "\n",
    "y_pri_0 = y_train[(X_train[:, -2] == 0)]\n",
    "y_pri_1 = y_train[(X_train[:, -2] == 1)]\n",
    "y_pri_23 = y_train[(X_train[:, -2] == 2) | (X_train[:, -2] == 3)]\n",
    "\n",
    "print(\"PRI_0: {}\".format(X_pri_0.shape))\n",
    "print(\"PRI_1: {}\".format(X_pri_1.shape))\n",
    "print(\"PRI_23: {}\".format(X_pri_23.shape))\n",
    "\n",
    "print(\"\\ny_PRI_0: {}\".format(y_pri_0.shape))\n",
    "print(\"y_PRI_1: {}\".format(y_pri_1.shape))\n",
    "print(\"y_PRI_23: {}\".format(y_pri_23.shape))"
   ]
  },
  {
   "cell_type": "code",
   "execution_count": 5,
   "metadata": {},
   "outputs": [
    {
     "name": "stdout",
     "output_type": "stream",
     "text": [
      "PRI_0: (99913, 13)\n",
      "PRI_1: (77544, 13)\n",
      "PRI_23: (72543, 13)\n"
     ]
    }
   ],
   "source": [
    "X_pri_0 = np.delete(X_pri_0, np.s_[12], axis=1)\n",
    "X_pri_1 = np.delete(X_pri_1, np.s_[12], axis=1)\n",
    "X_pri_23 = np.delete(X_pri_23, np.s_[12], axis=1)\n",
    "\n",
    "print(\"PRI_0: {}\".format(X_pri_0.shape))\n",
    "print(\"PRI_1: {}\".format(X_pri_1.shape))\n",
    "print(\"PRI_23: {}\".format(X_pri_23.shape))"
   ]
  },
  {
   "cell_type": "code",
   "execution_count": 6,
   "metadata": {},
   "outputs": [
    {
     "name": "stdout",
     "output_type": "stream",
     "text": [
      "[ 0  1  3  4  5  6  9 10 11 12 13 21 22]\n"
     ]
    }
   ],
   "source": [
    "selected_features = np.array([1,3,9,10,11,13,21,22])\n",
    "selected_features = np.sort(np.append(selected_features, [0,4,5,6,12]))\n",
    "print(selected_features)"
   ]
  },
  {
   "cell_type": "code",
   "execution_count": 7,
   "metadata": {},
   "outputs": [
    {
     "data": {
      "text/plain": [
       "[3, 4, 5, 9, 12]"
      ]
     },
     "execution_count": 7,
     "metadata": {},
     "output_type": "execute_result"
    }
   ],
   "source": [
    "delete_columns_0 = []\n",
    "\n",
    "for i in range(X_pri_0.shape[1]):\n",
    "    if np.isin(True, (X_pri_0[:,i] == -999)):\n",
    "        delete_columns_0.append(i)\n",
    "        \n",
    "delete_columns_0"
   ]
  },
  {
   "cell_type": "code",
   "execution_count": 8,
   "metadata": {},
   "outputs": [
    {
     "data": {
      "text/plain": [
       "[3, 4, 5, 9]"
      ]
     },
     "execution_count": 8,
     "metadata": {},
     "output_type": "execute_result"
    }
   ],
   "source": [
    "delete_columns_1 = []\n",
    "\n",
    "for i in range(X_pri_1.shape[1]):\n",
    "    if np.isin(True, (X_pri_1[:,i] == -999)):\n",
    "        delete_columns_1.append(i)\n",
    "        \n",
    "delete_columns_1"
   ]
  },
  {
   "cell_type": "code",
   "execution_count": 9,
   "metadata": {},
   "outputs": [
    {
     "data": {
      "text/plain": [
       "(99913, 8)"
      ]
     },
     "execution_count": 9,
     "metadata": {},
     "output_type": "execute_result"
    }
   ],
   "source": [
    "X_pri_0 = np.delete(X_pri_0, np.s_[delete_columns_0], axis=1)  \n",
    "X_pri_0.shape"
   ]
  },
  {
   "cell_type": "code",
   "execution_count": 10,
   "metadata": {},
   "outputs": [
    {
     "data": {
      "text/plain": [
       "(77544, 9)"
      ]
     },
     "execution_count": 10,
     "metadata": {},
     "output_type": "execute_result"
    }
   ],
   "source": [
    "X_pri_1 = np.delete(X_pri_1, np.s_[delete_columns_1], axis=1)  \n",
    "X_pri_1.shape"
   ]
  },
  {
   "cell_type": "code",
   "execution_count": 11,
   "metadata": {},
   "outputs": [
    {
     "name": "stdout",
     "output_type": "stream",
     "text": [
      "PRI_0: (99913, 8)\n",
      "PRI_1: (77544, 9)\n",
      "PRI_23: (72543, 13)\n"
     ]
    }
   ],
   "source": [
    "print(\"PRI_0: {}\".format(X_pri_0.shape))\n",
    "print(\"PRI_1: {}\".format(X_pri_1.shape))\n",
    "print(\"PRI_23: {}\".format(X_pri_23.shape))"
   ]
  },
  {
   "cell_type": "markdown",
   "metadata": {},
   "source": [
    "# Logistic Regression Models w/ Gradient Descent for 3 subsets"
   ]
  },
  {
   "cell_type": "code",
   "execution_count": 12,
   "metadata": {},
   "outputs": [
    {
     "name": "stdout",
     "output_type": "stream",
     "text": [
      "[1.e-06 1.e-05 1.e-04 1.e-03 1.e-02 1.e-01]\n"
     ]
    }
   ],
   "source": [
    "degrees = [10]\n",
    "max_iter = [1000]\n",
    "gamma = np.logspace(-6,-1,6)\n",
    "print(gamma)\n",
    "pars = {'degrees': degrees,\n",
    "       'max_iter': max_iter,\n",
    "       'gamma': gamma}"
   ]
  },
  {
   "cell_type": "markdown",
   "metadata": {},
   "source": [
    "# Model training\n",
    "\n",
    "Degrees are selected in accordance with the results in the Least Squares method. Appropriate gamma values are selected here.\n",
    "\n",
    "### Training for PRI_0 subset\n",
    "\n",
    "degree=10, gamma=1e-4"
   ]
  },
  {
   "cell_type": "code",
   "execution_count": 13,
   "metadata": {
    "scrolled": false
   },
   "outputs": [
    {
     "name": "stdout",
     "output_type": "stream",
     "text": [
      "deg:10-itr:1000-gam:1e-06 completed\n",
      "deg:10-itr:1000-gam:1e-05 completed\n",
      "deg:10-itr:1000-gam:0.0001 completed\n"
     ]
    },
    {
     "name": "stderr",
     "output_type": "stream",
     "text": [
      "/Users/canaltinigne/Desktop/ml_project_1/code/errors.py:15: RuntimeWarning: divide by zero encountered in log\n",
      "  return (-1*np.mean(np.add(np.multiply(y,np.log(pred)), np.multiply((1-y),np.log(1-pred)))) + lambda_*np.dot(w.T, w)).flatten()[0]  #Also works for regularized logistic regression when lambda_ > 0\n",
      "/Users/canaltinigne/Desktop/ml_project_1/code/errors.py:15: RuntimeWarning: invalid value encountered in multiply\n",
      "  return (-1*np.mean(np.add(np.multiply(y,np.log(pred)), np.multiply((1-y),np.log(1-pred)))) + lambda_*np.dot(w.T, w)).flatten()[0]  #Also works for regularized logistic regression when lambda_ > 0\n"
     ]
    },
    {
     "name": "stdout",
     "output_type": "stream",
     "text": [
      "deg:10-itr:1000-gam:0.001 completed\n"
     ]
    },
    {
     "name": "stderr",
     "output_type": "stream",
     "text": [
      "/Users/canaltinigne/Desktop/ml_project_1/code/gradient.py:10: RuntimeWarning: overflow encountered in exp\n",
      "  return 1. / (1. + np.exp(-z))\n"
     ]
    },
    {
     "name": "stdout",
     "output_type": "stream",
     "text": [
      "deg:10-itr:1000-gam:0.01 completed\n",
      "deg:10-itr:1000-gam:0.1 completed\n"
     ]
    }
   ],
   "source": [
    "pri0_tr_acc, pri0_te_acc = cross_validation(y_pri_0, X_pri_0, 3, h_pars=pars, model='log')"
   ]
  },
  {
   "cell_type": "code",
   "execution_count": 14,
   "metadata": {},
   "outputs": [
    {
     "data": {
      "text/plain": [
       "array([[1.00000000e+03, 1.00000000e-06, 1.00000000e+01, 7.51130995e-01],\n",
       "       [1.00000000e+03, 1.00000000e-05, 1.00000000e+01, 7.77133878e-01],\n",
       "       [1.00000000e+03, 1.00000000e-04, 1.00000000e+01, 8.07150292e-01],\n",
       "       [1.00000000e+03, 1.00000000e-03, 1.00000000e+01, 7.57386500e-01],\n",
       "       [1.00000000e+03, 1.00000000e-02, 1.00000000e+01, 7.40131316e-01],\n",
       "       [1.00000000e+03, 1.00000000e-01, 1.00000000e+01, 5.95353911e-01]])"
      ]
     },
     "execution_count": 14,
     "metadata": {},
     "output_type": "execute_result"
    }
   ],
   "source": [
    "pri0_te_acc "
   ]
  },
  {
   "cell_type": "code",
   "execution_count": 18,
   "metadata": {},
   "outputs": [
    {
     "data": {
      "text/plain": [
       "<matplotlib.legend.Legend at 0x119b2e240>"
      ]
     },
     "execution_count": 18,
     "metadata": {},
     "output_type": "execute_result"
    },
    {
     "data": {
      "image/png": "[encoded data removed]",
      "text/plain": [
       "<matplotlib.figure.Figure at 0x111f524e0>"
      ]
     },
     "metadata": {},
     "output_type": "display_data"
    }
   ],
   "source": [
    "plt.plot(pri0_tr_acc[:,1], pri0_tr_acc[:,3], label='Training Accuracy')\n",
    "plt.plot(pri0_te_acc[:,1], pri0_te_acc[:,3], label='Validation Accuracy')\n",
    "plt.xlabel('Learning Rate')\n",
    "plt.ylabel('Accuracy')\n",
    "plt.xscale('log')\n",
    "plt.legend()"
   ]
  },
  {
   "cell_type": "markdown",
   "metadata": {},
   "source": [
    "If we set learning rate as 1e-4, then there will be some problems. So we used 1e-5 as learning rate."
   ]
  },
  {
   "cell_type": "code",
   "execution_count": 31,
   "metadata": {},
   "outputs": [],
   "source": [
    "degrees = [10]\n",
    "max_iter = [10000]\n",
    "gamma = [1e-4]\n",
    "\n",
    "pars = {'degrees': degrees,\n",
    "       'max_iter': max_iter,\n",
    "       'gamma': gamma}"
   ]
  },
  {
   "cell_type": "code",
   "execution_count": 32,
   "metadata": {},
   "outputs": [
    {
     "name": "stdout",
     "output_type": "stream",
     "text": [
      "deg:10-itr:10000-gam:0.0001 completed\n"
     ]
    }
   ],
   "source": [
    "pri0_tr_acc, pri0_te_acc = cross_validation(y_pri_0, X_pri_0, 3, h_pars=pars, model='log')"
   ]
  },
  {
   "cell_type": "code",
   "execution_count": 33,
   "metadata": {},
   "outputs": [
    {
     "data": {
      "text/plain": [
       "0.8187505004403876"
      ]
     },
     "execution_count": 33,
     "metadata": {},
     "output_type": "execute_result"
    }
   ],
   "source": [
    "pri0_te_acc[0,3]"
   ]
  },
  {
   "cell_type": "code",
   "execution_count": 36,
   "metadata": {},
   "outputs": [],
   "source": [
    "np.random.seed(23)\n",
    "initial_w = np.random.normal(0,1,build_poly(X_pri_0, 10).shape[1]).reshape(-1,1)#\n",
    "\n",
    "w, losses = logistic_regression(y_pri_0, build_poly(X_pri_0,10), initial_w, 10000, 1e-4)"
   ]
  },
  {
   "cell_type": "code",
   "execution_count": 37,
   "metadata": {},
   "outputs": [
    {
     "data": {
      "text/plain": [
       "Text(0,0.5,'Log Loss')"
      ]
     },
     "execution_count": 37,
     "metadata": {},
     "output_type": "execute_result"
    },
    {
     "data": {
      "image/png": "[encoded data removed]",
      "text/plain": [
       "<matplotlib.figure.Figure at 0x119b6d1d0>"
      ]
     },
     "metadata": {},
     "output_type": "display_data"
    }
   ],
   "source": [
    "plt.plot(losses)\n",
    "plt.xlabel('Epoch')\n",
    "plt.ylabel('Log Loss')"
   ]
  },
  {
   "cell_type": "markdown",
   "metadata": {},
   "source": [
    "### Training for PRI_1 subset\n",
    "\n",
    "degree=9, gamma = 1e-5"
   ]
  },
  {
   "cell_type": "code",
   "execution_count": 19,
   "metadata": {},
   "outputs": [],
   "source": [
    "degrees = [9]\n",
    "\n",
    "pars = {'degrees': degrees,\n",
    "       'max_iter': max_iter,\n",
    "       'gamma': gamma}"
   ]
  },
  {
   "cell_type": "code",
   "execution_count": 20,
   "metadata": {},
   "outputs": [
    {
     "name": "stdout",
     "output_type": "stream",
     "text": [
      "deg:9-itr:1000-gam:1e-06 completed\n",
      "deg:9-itr:1000-gam:1e-05 completed\n",
      "deg:9-itr:1000-gam:0.0001 completed\n"
     ]
    },
    {
     "name": "stderr",
     "output_type": "stream",
     "text": [
      "/Users/canaltinigne/Desktop/ml_project_1/code/errors.py:15: RuntimeWarning: divide by zero encountered in log\n",
      "  return (-1*np.mean(np.add(np.multiply(y,np.log(pred)), np.multiply((1-y),np.log(1-pred)))) + lambda_*np.dot(w.T, w)).flatten()[0]  #Also works for regularized logistic regression when lambda_ > 0\n",
      "/Users/canaltinigne/Desktop/ml_project_1/code/errors.py:15: RuntimeWarning: invalid value encountered in multiply\n",
      "  return (-1*np.mean(np.add(np.multiply(y,np.log(pred)), np.multiply((1-y),np.log(1-pred)))) + lambda_*np.dot(w.T, w)).flatten()[0]  #Also works for regularized logistic regression when lambda_ > 0\n"
     ]
    },
    {
     "name": "stdout",
     "output_type": "stream",
     "text": [
      "deg:9-itr:1000-gam:0.001 completed\n"
     ]
    },
    {
     "name": "stderr",
     "output_type": "stream",
     "text": [
      "/Users/canaltinigne/Desktop/ml_project_1/code/gradient.py:10: RuntimeWarning: overflow encountered in exp\n",
      "  return 1. / (1. + np.exp(-z))\n"
     ]
    },
    {
     "name": "stdout",
     "output_type": "stream",
     "text": [
      "deg:9-itr:1000-gam:0.01 completed\n",
      "deg:9-itr:1000-gam:0.1 completed\n"
     ]
    }
   ],
   "source": [
    "pri1_tr_acc, pri1_te_acc = cross_validation(y_pri_1, X_pri_1, 3, h_pars=pars, model='log')"
   ]
  },
  {
   "cell_type": "code",
   "execution_count": 21,
   "metadata": {},
   "outputs": [
    {
     "data": {
      "text/plain": [
       "array([[1.00000000e+03, 1.00000000e-06, 9.00000000e+00, 6.50998143e-01],\n",
       "       [1.00000000e+03, 1.00000000e-05, 9.00000000e+00, 6.97126793e-01],\n",
       "       [1.00000000e+03, 1.00000000e-04, 9.00000000e+00, 6.09021975e-01],\n",
       "       [1.00000000e+03, 1.00000000e-03, 9.00000000e+00, 5.92295987e-01],\n",
       "       [1.00000000e+03, 1.00000000e-02, 9.00000000e+00, 5.91922006e-01],\n",
       "       [1.00000000e+03, 1.00000000e-01, 9.00000000e+00, 5.91844630e-01]])"
      ]
     },
     "execution_count": 21,
     "metadata": {},
     "output_type": "execute_result"
    }
   ],
   "source": [
    "pri1_te_acc"
   ]
  },
  {
   "cell_type": "code",
   "execution_count": 22,
   "metadata": {},
   "outputs": [
    {
     "data": {
      "text/plain": [
       "<matplotlib.legend.Legend at 0x119c06208>"
      ]
     },
     "execution_count": 22,
     "metadata": {},
     "output_type": "execute_result"
    },
    {
     "data": {
      "image/png": "[encoded data removed]",
      "text/plain": [
       "<matplotlib.figure.Figure at 0x119bd6f60>"
      ]
     },
     "metadata": {},
     "output_type": "display_data"
    }
   ],
   "source": [
    "plt.plot(pri1_tr_acc[:,1], pri1_tr_acc[:,3], label='Training Accuracy')\n",
    "plt.plot(pri1_te_acc[:,1], pri1_te_acc[:,3], label='Validation Accuracy')\n",
    "plt.xlabel('Learning Rate')\n",
    "plt.ylabel('Accuracy')\n",
    "plt.xscale('log')\n",
    "plt.legend()"
   ]
  },
  {
   "cell_type": "code",
   "execution_count": 38,
   "metadata": {},
   "outputs": [],
   "source": [
    "degrees = [9]\n",
    "max_iter = [10000]\n",
    "gamma = [1e-5]\n",
    "\n",
    "pars = {'degrees': degrees,\n",
    "       'max_iter': max_iter,\n",
    "       'gamma': gamma}"
   ]
  },
  {
   "cell_type": "code",
   "execution_count": 39,
   "metadata": {},
   "outputs": [
    {
     "name": "stdout",
     "output_type": "stream",
     "text": [
      "deg:9-itr:10000-gam:1e-05 completed\n"
     ]
    }
   ],
   "source": [
    "pri1_tr_acc, pri1_te_acc = cross_validation(y_pri_1, X_pri_1, 3, h_pars=pars, model='log')"
   ]
  },
  {
   "cell_type": "code",
   "execution_count": 43,
   "metadata": {},
   "outputs": [
    {
     "data": {
      "text/plain": [
       "0.7086170432270711"
      ]
     },
     "execution_count": 43,
     "metadata": {},
     "output_type": "execute_result"
    }
   ],
   "source": [
    "pri1_te_acc[0,3]"
   ]
  },
  {
   "cell_type": "code",
   "execution_count": 44,
   "metadata": {},
   "outputs": [],
   "source": [
    "np.random.seed(23)\n",
    "initial_w = np.random.normal(0,1,build_poly(X_pri_1, 9).shape[1]).reshape(-1,1)#\n",
    "\n",
    "w, losses = logistic_regression(y_pri_1, build_poly(X_pri_1,9), initial_w, 10000, 1e-5)"
   ]
  },
  {
   "cell_type": "code",
   "execution_count": 45,
   "metadata": {},
   "outputs": [
    {
     "data": {
      "text/plain": [
       "Text(0,0.5,'Log Loss')"
      ]
     },
     "execution_count": 45,
     "metadata": {},
     "output_type": "execute_result"
    },
    {
     "data": {
      "image/png": "[encoded data removed]",
      "text/plain": [
       "<matplotlib.figure.Figure at 0x1169fff28>"
      ]
     },
     "metadata": {},
     "output_type": "display_data"
    }
   ],
   "source": [
    "plt.plot(losses)\n",
    "plt.xlabel('Epoch')\n",
    "plt.ylabel('Log Loss')"
   ]
  },
  {
   "cell_type": "markdown",
   "metadata": {},
   "source": [
    "### Training for PRI_23 subset\n",
    "\n",
    "degree=10, gamma=1e-5"
   ]
  },
  {
   "cell_type": "code",
   "execution_count": 23,
   "metadata": {},
   "outputs": [],
   "source": [
    "degrees = [10]\n",
    "\n",
    "pars = {'degrees': degrees,\n",
    "       'max_iter': max_iter,\n",
    "       'gamma': gamma}"
   ]
  },
  {
   "cell_type": "code",
   "execution_count": 24,
   "metadata": {},
   "outputs": [
    {
     "name": "stdout",
     "output_type": "stream",
     "text": [
      "deg:10-itr:1000-gam:1e-06 completed\n",
      "deg:10-itr:1000-gam:1e-05 completed\n",
      "deg:10-itr:1000-gam:0.0001 completed\n"
     ]
    },
    {
     "name": "stderr",
     "output_type": "stream",
     "text": [
      "/Users/canaltinigne/Desktop/ml_project_1/code/errors.py:15: RuntimeWarning: divide by zero encountered in log\n",
      "  return (-1*np.mean(np.add(np.multiply(y,np.log(pred)), np.multiply((1-y),np.log(1-pred)))) + lambda_*np.dot(w.T, w)).flatten()[0]  #Also works for regularized logistic regression when lambda_ > 0\n",
      "/Users/canaltinigne/Desktop/ml_project_1/code/errors.py:15: RuntimeWarning: invalid value encountered in multiply\n",
      "  return (-1*np.mean(np.add(np.multiply(y,np.log(pred)), np.multiply((1-y),np.log(1-pred)))) + lambda_*np.dot(w.T, w)).flatten()[0]  #Also works for regularized logistic regression when lambda_ > 0\n"
     ]
    },
    {
     "name": "stdout",
     "output_type": "stream",
     "text": [
      "deg:10-itr:1000-gam:0.001 completed\n"
     ]
    },
    {
     "name": "stderr",
     "output_type": "stream",
     "text": [
      "/Users/canaltinigne/Desktop/ml_project_1/code/gradient.py:10: RuntimeWarning: overflow encountered in exp\n",
      "  return 1. / (1. + np.exp(-z))\n"
     ]
    },
    {
     "name": "stdout",
     "output_type": "stream",
     "text": [
      "deg:10-itr:1000-gam:0.01 completed\n",
      "deg:10-itr:1000-gam:0.1 completed\n"
     ]
    }
   ],
   "source": [
    "pri23_tr_acc, pri23_te_acc = cross_validation(y_pri_23, X_pri_23, 3, h_pars=pars, model='log')"
   ]
  },
  {
   "cell_type": "code",
   "execution_count": 25,
   "metadata": {},
   "outputs": [
    {
     "data": {
      "text/plain": [
       "array([[1.00000000e+03, 1.00000000e-06, 1.00000000e+01, 6.95876928e-01],\n",
       "       [1.00000000e+03, 1.00000000e-05, 1.00000000e+01, 7.12708325e-01],\n",
       "       [1.00000000e+03, 1.00000000e-04, 1.00000000e+01, 6.11664806e-01],\n",
       "       [1.00000000e+03, 1.00000000e-03, 1.00000000e+01, 6.08259929e-01],\n",
       "       [1.00000000e+03, 1.00000000e-02, 1.00000000e+01, 6.08342638e-01],\n",
       "       [1.00000000e+03, 1.00000000e-01, 1.00000000e+01, 6.08342638e-01]])"
      ]
     },
     "execution_count": 25,
     "metadata": {},
     "output_type": "execute_result"
    }
   ],
   "source": [
    "pri23_te_acc"
   ]
  },
  {
   "cell_type": "code",
   "execution_count": 26,
   "metadata": {},
   "outputs": [
    {
     "data": {
      "text/plain": [
       "<matplotlib.legend.Legend at 0x117ac2cc0>"
      ]
     },
     "execution_count": 26,
     "metadata": {},
     "output_type": "execute_result"
    },
    {
     "data": {
      "image/png": "[encoded data removed]",
      "text/plain": [
       "<matplotlib.figure.Figure at 0x117a07f60>"
      ]
     },
     "metadata": {},
     "output_type": "display_data"
    }
   ],
   "source": [
    "plt.plot(pri23_tr_acc[:,1], pri23_tr_acc[:,3], label='Training Accuracy')\n",
    "plt.plot(pri23_te_acc[:,1], pri23_te_acc[:,3], label='Validation Accuracy')\n",
    "plt.xlabel('Degree')\n",
    "plt.ylabel('Accuracy')\n",
    "plt.xscale('log')\n",
    "plt.legend()"
   ]
  },
  {
   "cell_type": "code",
   "execution_count": 49,
   "metadata": {},
   "outputs": [],
   "source": [
    "degrees = [10]\n",
    "max_iter = [10000]\n",
    "gamma = [1e-5]\n",
    "\n",
    "pars = {'degrees': degrees,\n",
    "       'max_iter': max_iter,\n",
    "       'gamma': gamma}"
   ]
  },
  {
   "cell_type": "code",
   "execution_count": 50,
   "metadata": {},
   "outputs": [
    {
     "name": "stdout",
     "output_type": "stream",
     "text": [
      "deg:10-itr:10000-gam:1e-05 completed\n"
     ]
    }
   ],
   "source": [
    "pri23_tr_acc, pri23_te_acc = cross_validation(y_pri_23, X_pri_23, 3, h_pars=pars, model='log')"
   ]
  },
  {
   "cell_type": "code",
   "execution_count": 51,
   "metadata": {},
   "outputs": [
    {
     "data": {
      "text/plain": [
       "0.7273754876418125"
      ]
     },
     "execution_count": 51,
     "metadata": {},
     "output_type": "execute_result"
    }
   ],
   "source": [
    "pri23_te_acc[0,3]"
   ]
  },
  {
   "cell_type": "code",
   "execution_count": 52,
   "metadata": {},
   "outputs": [],
   "source": [
    "np.random.seed(23)\n",
    "initial_w = np.random.normal(0,1,build_poly(X_pri_1, 10).shape[1]).reshape(-1,1)#\n",
    "\n",
    "w, losses = logistic_regression(y_pri_1, build_poly(X_pri_1,10), initial_w, 10000, 1e-5)"
   ]
  },
  {
   "cell_type": "code",
   "execution_count": 53,
   "metadata": {},
   "outputs": [
    {
     "data": {
      "text/plain": [
       "Text(0,0.5,'Log Loss')"
      ]
     },
     "execution_count": 53,
     "metadata": {},
     "output_type": "execute_result"
    },
    {
     "data": {
      "image/png": "[encoded data removed]",
      "text/plain": [
       "<matplotlib.figure.Figure at 0x116bcae80>"
      ]
     },
     "metadata": {},
     "output_type": "display_data"
    }
   ],
   "source": [
    "plt.plot(losses)\n",
    "plt.xlabel('Epoch')\n",
    "plt.ylabel('Log Loss')"
   ]
  },
  {
   "cell_type": "markdown",
   "metadata": {},
   "source": [
    "# Logistic Regession - Validation Set Accuracy"
   ]
  },
  {
   "cell_type": "code",
   "execution_count": 54,
   "metadata": {},
   "outputs": [
    {
     "data": {
      "text/plain": [
       "0.7515810104364237"
      ]
     },
     "execution_count": 54,
     "metadata": {},
     "output_type": "execute_result"
    }
   ],
   "source": [
    "np.mean([pri23_te_acc[0,3],\n",
    "        pri1_te_acc[0,3],\n",
    "        pri0_te_acc[0,3]])"
   ]
  }
 ],
 "metadata": {
  "kernelspec": {
   "display_name": "Python 3",
   "language": "python",
   "name": "python3"
  },
  "language_info": {
   "codemirror_mode": {
    "name": "ipython",
    "version": 3
   },
   "file_extension": ".py",
   "mimetype": "text/x-python",
   "name": "python",
   "nbconvert_exporter": "python",
   "pygments_lexer": "ipython3",
   "version": "3.6.4"
  }
 },
 "nbformat": 4,
 "nbformat_minor": 2
}
