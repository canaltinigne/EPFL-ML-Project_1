{
 "cells": [
  {
   "cell_type": "markdown",
   "metadata": {},
   "source": [
    "# Least Squares Models"
   ]
  },
  {
   "cell_type": "code",
   "execution_count": 329,
   "metadata": {},
   "outputs": [],
   "source": [
    "%matplotlib inline\n",
    "import numpy as np\n",
    "from cross_validation import cross_validation\n",
    "from polynomial import build_poly\n",
    "import matplotlib.pyplot as plt\n",
    "from implementations import least_squares"
   ]
  },
  {
   "cell_type": "code",
   "execution_count": 330,
   "metadata": {},
   "outputs": [
    {
     "name": "stdout",
     "output_type": "stream",
     "text": [
      "(250000, 14)\n",
      "(250000,)\n"
     ]
    }
   ],
   "source": [
    "X_train = np.load(\"X_train.npy\")\n",
    "y_train = np.load(\"y_train_1-1.npy\")\n",
    "print(X_train.shape)\n",
    "print(y_train.shape)"
   ]
  },
  {
   "cell_type": "markdown",
   "metadata": {},
   "source": [
    "# Splitting into 3 subsets\n",
    "\n",
    "We split the dataset using PRI_jet_num column"
   ]
  },
  {
   "cell_type": "code",
   "execution_count": 331,
   "metadata": {},
   "outputs": [],
   "source": [
    "X_pri_0 = X_train[(X_train[:, -2] == 0), :]\n",
    "X_pri_1 = X_train[(X_train[:, -2] == 1), :]\n",
    "X_pri_23 = X_train[(X_train[:, -2] == 2) | (X_train[:, -2] == 3), :]\n",
    "\n",
    "y_pri_0 = y_train[(X_train[:, -2] == 0)]\n",
    "y_pri_1 = y_train[(X_train[:, -2] == 1)]\n",
    "y_pri_23 = y_train[(X_train[:, -2] == 2) | (X_train[:, -2] == 3)]"
   ]
  },
  {
   "cell_type": "code",
   "execution_count": 332,
   "metadata": {},
   "outputs": [
    {
     "name": "stdout",
     "output_type": "stream",
     "text": [
      "PRI_0: (99913, 13)\n",
      "PRI_1: (77544, 13)\n",
      "PRI_23: (72543, 13)\n",
      "\n",
      "y_PRI_0: (99913,)\n",
      "y_PRI_1: (77544,)\n",
      "y_PRI_23: (72543,)\n"
     ]
    }
   ],
   "source": [
    "X_pri_0 = np.delete(X_pri_0, np.s_[12], axis=1)\n",
    "X_pri_1 = np.delete(X_pri_1, np.s_[12], axis=1)\n",
    "X_pri_23 = np.delete(X_pri_23, np.s_[12], axis=1)\n",
    "\n",
    "print(\"PRI_0: {}\".format(X_pri_0.shape))\n",
    "print(\"PRI_1: {}\".format(X_pri_1.shape))\n",
    "print(\"PRI_23: {}\".format(X_pri_23.shape))\n",
    "\n",
    "print(\"\\ny_PRI_0: {}\".format(y_pri_0.shape))\n",
    "print(\"y_PRI_1: {}\".format(y_pri_1.shape))\n",
    "print(\"y_PRI_23: {}\".format(y_pri_23.shape))"
   ]
  },
  {
   "cell_type": "code",
   "execution_count": 333,
   "metadata": {},
   "outputs": [
    {
     "name": "stdout",
     "output_type": "stream",
     "text": [
      "[ 0  1  3  4  5  6  9 10 11 12 13 21 23]\n"
     ]
    }
   ],
   "source": [
    "selected_features = np.array([1,3,9,10,11,13,21,23])\n",
    "selected_features = np.sort(np.append(selected_features, [0,4,5,6,12]))\n",
    "print(selected_features)"
   ]
  },
  {
   "cell_type": "code",
   "execution_count": 334,
   "metadata": {},
   "outputs": [
    {
     "data": {
      "text/plain": [
       "[3, 4, 5, 9, 12]"
      ]
     },
     "execution_count": 334,
     "metadata": {},
     "output_type": "execute_result"
    }
   ],
   "source": [
    "delete_columns_0 = []\n",
    "\n",
    "for i in range(X_pri_0.shape[1]):\n",
    "    if np.isin(True, (X_pri_0[:,i] == -999)):\n",
    "        delete_columns_0.append(i)\n",
    "        \n",
    "delete_columns_0"
   ]
  },
  {
   "cell_type": "code",
   "execution_count": 335,
   "metadata": {},
   "outputs": [
    {
     "data": {
      "text/plain": [
       "[3, 4, 5, 9]"
      ]
     },
     "execution_count": 335,
     "metadata": {},
     "output_type": "execute_result"
    }
   ],
   "source": [
    "delete_columns_1 = []\n",
    "\n",
    "for i in range(X_pri_1.shape[1]):\n",
    "    if np.isin(True, (X_pri_1[:,i] == -999)):\n",
    "        delete_columns_1.append(i)\n",
    "        \n",
    "delete_columns_1"
   ]
  },
  {
   "cell_type": "code",
   "execution_count": 336,
   "metadata": {},
   "outputs": [
    {
     "data": {
      "text/plain": [
       "(99913, 8)"
      ]
     },
     "execution_count": 336,
     "metadata": {},
     "output_type": "execute_result"
    }
   ],
   "source": [
    "X_pri_0 = np.delete(X_pri_0, np.s_[delete_columns_0], axis=1)  \n",
    "X_pri_0.shape"
   ]
  },
  {
   "cell_type": "code",
   "execution_count": 337,
   "metadata": {},
   "outputs": [
    {
     "data": {
      "text/plain": [
       "(77544, 9)"
      ]
     },
     "execution_count": 337,
     "metadata": {},
     "output_type": "execute_result"
    }
   ],
   "source": [
    "X_pri_1 = np.delete(X_pri_1, np.s_[delete_columns_1], axis=1)  \n",
    "X_pri_1.shape"
   ]
  },
  {
   "cell_type": "code",
   "execution_count": 338,
   "metadata": {},
   "outputs": [
    {
     "name": "stdout",
     "output_type": "stream",
     "text": [
      "PRI_0: (99913, 8)\n",
      "PRI_1: (77544, 9)\n",
      "PRI_23: (72543, 13)\n"
     ]
    }
   ],
   "source": [
    "print(\"PRI_0: {}\".format(X_pri_0.shape))\n",
    "print(\"PRI_1: {}\".format(X_pri_1.shape))\n",
    "print(\"PRI_23: {}\".format(X_pri_23.shape))"
   ]
  },
  {
   "cell_type": "markdown",
   "metadata": {},
   "source": [
    "# Least Squares Models for 3 subsets"
   ]
  },
  {
   "cell_type": "markdown",
   "metadata": {},
   "source": [
    "## Add polynomial features"
   ]
  },
  {
   "cell_type": "code",
   "execution_count": 339,
   "metadata": {},
   "outputs": [
    {
     "data": {
      "text/plain": [
       "array([ 2,  3,  4,  5,  6,  7,  8,  9, 10])"
      ]
     },
     "execution_count": 339,
     "metadata": {},
     "output_type": "execute_result"
    }
   ],
   "source": [
    "degrees = np.linspace(2,10,9).astype(int)\n",
    "degrees"
   ]
  },
  {
   "cell_type": "markdown",
   "metadata": {},
   "source": [
    "## Rank deficiency test for polynomial features\n",
    "\n",
    "More than 10 degree brings rank deficiency"
   ]
  },
  {
   "cell_type": "code",
   "execution_count": 340,
   "metadata": {},
   "outputs": [],
   "source": [
    "def rank_deficiency(degrees, X):\n",
    "    for degree in degrees:\n",
    "        created = build_poly(pri_2, degree)\n",
    "        if created.shape[1] != np.linalg.matrix_rank(created):\n",
    "            return True\n",
    "    return False"
   ]
  },
  {
   "cell_type": "code",
   "execution_count": 341,
   "metadata": {},
   "outputs": [
    {
     "name": "stdout",
     "output_type": "stream",
     "text": [
      "PRI_0: False\n",
      "PRI_1: False\n",
      "PRI_23: False\n"
     ]
    }
   ],
   "source": [
    "print(\"PRI_0: {}\".format(rank_deficiency(degrees, X_pri_0)))\n",
    "print(\"PRI_1: {}\".format(rank_deficiency(degrees, X_pri_1)))\n",
    "print(\"PRI_23: {}\".format(rank_deficiency(degrees, X_pri_23)))"
   ]
  },
  {
   "cell_type": "markdown",
   "metadata": {},
   "source": [
    "## Model training\n",
    "\n",
    "### Training for PRI_0 subset\n",
    "\n",
    "Optimum degree = 10"
   ]
  },
  {
   "cell_type": "code",
   "execution_count": 342,
   "metadata": {},
   "outputs": [],
   "source": [
    "pars = {'degrees': degrees}\n",
    "pri0_tr_acc, pri0_te_acc = cross_validation(y_pri_0, X_pri_0, 5, h_pars=pars, model='least')"
   ]
  },
  {
   "cell_type": "code",
   "execution_count": 343,
   "metadata": {},
   "outputs": [
    {
     "data": {
      "text/plain": [
       "<matplotlib.legend.Legend at 0x10ef34320>"
      ]
     },
     "execution_count": 343,
     "metadata": {},
     "output_type": "execute_result"
    },
    {
     "data": {
      "image/png": "[encoded data removed]",
      "text/plain": [
       "<matplotlib.figure.Figure at 0x10f4fbd30>"
      ]
     },
     "metadata": {},
     "output_type": "display_data"
    }
   ],
   "source": [
    "plt.plot(pri0_tr_acc[:,0], pri0_tr_acc[:,1], label='Training Accuracy')\n",
    "plt.plot(pri0_te_acc[:,0], pri0_te_acc[:,1], label='Validation Accuracy')\n",
    "plt.xlabel('Degree')\n",
    "plt.ylabel('Accuracy')\n",
    "plt.legend()"
   ]
  },
  {
   "cell_type": "code",
   "execution_count": 344,
   "metadata": {},
   "outputs": [
    {
     "data": {
      "text/plain": [
       "array([[ 2.        ,  0.81683515],\n",
       "       [ 3.        ,  0.8174457 ],\n",
       "       [ 4.        ,  0.81935742],\n",
       "       [ 5.        ,  0.82399159],\n",
       "       [ 6.        ,  0.82565309],\n",
       "       [ 7.        ,  0.82707437],\n",
       "       [ 8.        ,  0.82847563],\n",
       "       [ 9.        ,  0.82827545],\n",
       "       [10.        ,  0.8294465 ]])"
      ]
     },
     "execution_count": 344,
     "metadata": {},
     "output_type": "execute_result"
    }
   ],
   "source": [
    "pri0_te_acc"
   ]
  },
  {
   "cell_type": "markdown",
   "metadata": {},
   "source": [
    "### Training for PRI_1 subset\n",
    "\n",
    "Optimum degree = 9"
   ]
  },
  {
   "cell_type": "code",
   "execution_count": 345,
   "metadata": {},
   "outputs": [],
   "source": [
    "pri1_tr_acc, pri1_te_acc = cross_validation(y_pri_1, X_pri_1, 5, h_pars=pars, model='least')"
   ]
  },
  {
   "cell_type": "code",
   "execution_count": 346,
   "metadata": {},
   "outputs": [
    {
     "data": {
      "text/plain": [
       "<matplotlib.legend.Legend at 0x12000e860>"
      ]
     },
     "execution_count": 346,
     "metadata": {},
     "output_type": "execute_result"
    },
    {
     "data": {
      "image/png": "[encoded data removed]",
      "text/plain": [
       "<matplotlib.figure.Figure at 0x10ef44a58>"
      ]
     },
     "metadata": {},
     "output_type": "display_data"
    }
   ],
   "source": [
    "plt.plot(pri1_tr_acc[:,0], pri1_tr_acc[:,1], label='Training Accuracy')\n",
    "plt.plot(pri1_te_acc[:,0], pri1_te_acc[:,1], label='Validation Accuracy')\n",
    "plt.xlabel('Degree')\n",
    "plt.ylabel('Accuracy')\n",
    "plt.legend()"
   ]
  },
  {
   "cell_type": "code",
   "execution_count": 347,
   "metadata": {},
   "outputs": [
    {
     "data": {
      "text/plain": [
       "array([[ 2.        ,  0.72468403],\n",
       "       [ 3.        ,  0.74215889],\n",
       "       [ 4.        ,  0.7537658 ],\n",
       "       [ 5.        ,  0.75608718],\n",
       "       [ 6.        ,  0.75809905],\n",
       "       [ 7.        ,  0.76799071],\n",
       "       [ 8.        ,  0.77870776],\n",
       "       [ 9.        ,  0.78216404],\n",
       "       [10.        ,  0.78198349]])"
      ]
     },
     "execution_count": 347,
     "metadata": {},
     "output_type": "execute_result"
    }
   ],
   "source": [
    "pri1_te_acc"
   ]
  },
  {
   "cell_type": "markdown",
   "metadata": {},
   "source": [
    "### Training for PRI_23 subset\n",
    "\n",
    "Optimum degree = 10"
   ]
  },
  {
   "cell_type": "code",
   "execution_count": 348,
   "metadata": {},
   "outputs": [],
   "source": [
    "pri23_tr_acc, pri23_te_acc = cross_validation(y_pri_23, X_pri_23, 5, h_pars=pars, model='least')"
   ]
  },
  {
   "cell_type": "code",
   "execution_count": 349,
   "metadata": {},
   "outputs": [
    {
     "data": {
      "text/plain": [
       "<matplotlib.legend.Legend at 0x10f662828>"
      ]
     },
     "execution_count": 349,
     "metadata": {},
     "output_type": "execute_result"
    },
    {
     "data": {
      "image/png": "[encoded data removed]",
      "text/plain": [
       "<matplotlib.figure.Figure at 0x10ef44ba8>"
      ]
     },
     "metadata": {},
     "output_type": "display_data"
    }
   ],
   "source": [
    "plt.plot(pri23_tr_acc[:,0], pri23_tr_acc[:,1], label='Training Accuracy')\n",
    "plt.plot(pri23_te_acc[:,0], pri23_te_acc[:,1], label='Validation Accuracy')\n",
    "plt.xlabel('Degree')\n",
    "plt.ylabel('Accuracy')\n",
    "plt.legend()"
   ]
  },
  {
   "cell_type": "code",
   "execution_count": 355,
   "metadata": {},
   "outputs": [
    {
     "data": {
      "text/plain": [
       "array([[ 2.        ,  0.74347946],\n",
       "       [ 3.        ,  0.77373863],\n",
       "       [ 4.        ,  0.79325889],\n",
       "       [ 5.        ,  0.79649848],\n",
       "       [ 6.        ,  0.79682934],\n",
       "       [ 7.        ,  0.8048525 ],\n",
       "       [ 8.        ,  0.81505376],\n",
       "       [ 9.        ,  0.81965812],\n",
       "       [10.        ,  0.81993383]])"
      ]
     },
     "execution_count": 355,
     "metadata": {},
     "output_type": "execute_result"
    }
   ],
   "source": [
    "pri23_te_acc"
   ]
  },
  {
   "cell_type": "markdown",
   "metadata": {},
   "source": [
    "# Least Squares - Validation Set Accuracy"
   ]
  },
  {
   "cell_type": "code",
   "execution_count": 356,
   "metadata": {},
   "outputs": [
    {
     "data": {
      "text/plain": [
       "0.8105147919423715"
      ]
     },
     "execution_count": 356,
     "metadata": {},
     "output_type": "execute_result"
    }
   ],
   "source": [
    "np.mean([pri23_te_acc[8,1],\n",
    "        pri1_te_acc[7,1],\n",
    "        pri0_te_acc[8,1]])"
   ]
  }
 ],
 "metadata": {
  "kernelspec": {
   "display_name": "Python 3",
   "language": "python",
   "name": "python3"
  },
  "language_info": {
   "codemirror_mode": {
    "name": "ipython",
    "version": 3
   },
   "file_extension": ".py",
   "mimetype": "text/x-python",
   "name": "python",
   "nbconvert_exporter": "python",
   "pygments_lexer": "ipython3",
   "version": "3.6.4"
  }
 },
 "nbformat": 4,
 "nbformat_minor": 2
}
