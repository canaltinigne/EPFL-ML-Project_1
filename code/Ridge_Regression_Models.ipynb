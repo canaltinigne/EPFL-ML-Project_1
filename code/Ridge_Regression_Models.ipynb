{
 "cells": [
  {
   "cell_type": "markdown",
   "metadata": {},
   "source": [
    "# Ridge Regression Models"
   ]
  },
  {
   "cell_type": "code",
   "execution_count": 384,
   "metadata": {},
   "outputs": [],
   "source": [
    "%matplotlib inline\n",
    "import numpy as np\n",
    "from cross_validation import cross_validation\n",
    "from polynomial import build_poly\n",
    "import matplotlib.pyplot as plt"
   ]
  },
  {
   "cell_type": "code",
   "execution_count": 385,
   "metadata": {},
   "outputs": [
    {
     "name": "stdout",
     "output_type": "stream",
     "text": [
      "(250000, 14)\n",
      "(250000,)\n"
     ]
    }
   ],
   "source": [
    "X_train = np.load(\"X_train.npy\")\n",
    "y_train = np.load(\"y_train_1-1.npy\")\n",
    "print(X_train.shape)\n",
    "print(y_train.shape)"
   ]
  },
  {
   "cell_type": "code",
   "execution_count": 386,
   "metadata": {},
   "outputs": [
    {
     "name": "stdout",
     "output_type": "stream",
     "text": [
      "PRI_0: (99913, 14)\n",
      "PRI_1: (77544, 14)\n",
      "PRI_23: (72543, 14)\n",
      "\n",
      "y_PRI_0: (99913,)\n",
      "y_PRI_1: (77544,)\n",
      "y_PRI_23: (72543,)\n"
     ]
    }
   ],
   "source": [
    "X_pri_0 = X_train[(X_train[:, -2] == 0), :]\n",
    "X_pri_1 = X_train[(X_train[:, -2] == 1), :]\n",
    "X_pri_23 = X_train[(X_train[:, -2] == 2) | (X_train[:, -2] == 3), :]\n",
    "\n",
    "y_pri_0 = y_train[(X_train[:, -2] == 0)]\n",
    "y_pri_1 = y_train[(X_train[:, -2] == 1)]\n",
    "y_pri_23 = y_train[(X_train[:, -2] == 2) | (X_train[:, -2] == 3)]\n",
    "\n",
    "print(\"PRI_0: {}\".format(X_pri_0.shape))\n",
    "print(\"PRI_1: {}\".format(X_pri_1.shape))\n",
    "print(\"PRI_23: {}\".format(X_pri_23.shape))\n",
    "\n",
    "print(\"\\ny_PRI_0: {}\".format(y_pri_0.shape))\n",
    "print(\"y_PRI_1: {}\".format(y_pri_1.shape))\n",
    "print(\"y_PRI_23: {}\".format(y_pri_23.shape))"
   ]
  },
  {
   "cell_type": "code",
   "execution_count": 388,
   "metadata": {},
   "outputs": [
    {
     "name": "stdout",
     "output_type": "stream",
     "text": [
      "PRI_0: (99913, 13)\n",
      "PRI_1: (77544, 13)\n",
      "PRI_23: (72543, 13)\n"
     ]
    }
   ],
   "source": [
    "X_pri_0 = np.delete(X_pri_0, np.s_[12], axis=1)\n",
    "X_pri_1 = np.delete(X_pri_1, np.s_[12], axis=1)\n",
    "X_pri_23 = np.delete(X_pri_23, np.s_[12], axis=1)\n",
    "\n",
    "print(\"PRI_0: {}\".format(X_pri_0.shape))\n",
    "print(\"PRI_1: {}\".format(X_pri_1.shape))\n",
    "print(\"PRI_23: {}\".format(X_pri_23.shape))"
   ]
  },
  {
   "cell_type": "code",
   "execution_count": 389,
   "metadata": {},
   "outputs": [
    {
     "name": "stdout",
     "output_type": "stream",
     "text": [
      "[ 0  1  3  4  5  6  9 10 11 12 13 21 23]\n"
     ]
    }
   ],
   "source": [
    "selected_features = np.array([1,3,9,10,11,13,21,23])\n",
    "selected_features = np.sort(np.append(selected_features, [0,4,5,6,12]))\n",
    "print(selected_features)"
   ]
  },
  {
   "cell_type": "code",
   "execution_count": 390,
   "metadata": {},
   "outputs": [
    {
     "data": {
      "text/plain": [
       "[3, 4, 5, 9, 12]"
      ]
     },
     "execution_count": 390,
     "metadata": {},
     "output_type": "execute_result"
    }
   ],
   "source": [
    "delete_columns_0 = []\n",
    "\n",
    "for i in range(X_pri_0.shape[1]):\n",
    "    if np.isin(True, (X_pri_0[:,i] == -999)):\n",
    "        delete_columns_0.append(i)\n",
    "        \n",
    "delete_columns_0"
   ]
  },
  {
   "cell_type": "code",
   "execution_count": 391,
   "metadata": {},
   "outputs": [
    {
     "data": {
      "text/plain": [
       "[3, 4, 5, 9]"
      ]
     },
     "execution_count": 391,
     "metadata": {},
     "output_type": "execute_result"
    }
   ],
   "source": [
    "delete_columns_1 = []\n",
    "\n",
    "for i in range(X_pri_1.shape[1]):\n",
    "    if np.isin(True, (X_pri_1[:,i] == -999)):\n",
    "        delete_columns_1.append(i)\n",
    "        \n",
    "delete_columns_1"
   ]
  },
  {
   "cell_type": "code",
   "execution_count": 392,
   "metadata": {},
   "outputs": [
    {
     "data": {
      "text/plain": [
       "(99913, 8)"
      ]
     },
     "execution_count": 392,
     "metadata": {},
     "output_type": "execute_result"
    }
   ],
   "source": [
    "X_pri_0 = np.delete(X_pri_0, np.s_[delete_columns_0], axis=1)  \n",
    "X_pri_0.shape"
   ]
  },
  {
   "cell_type": "code",
   "execution_count": 393,
   "metadata": {},
   "outputs": [
    {
     "data": {
      "text/plain": [
       "(77544, 9)"
      ]
     },
     "execution_count": 393,
     "metadata": {},
     "output_type": "execute_result"
    }
   ],
   "source": [
    "X_pri_1 = np.delete(X_pri_1, np.s_[delete_columns_1], axis=1)  \n",
    "X_pri_1.shape"
   ]
  },
  {
   "cell_type": "code",
   "execution_count": 394,
   "metadata": {},
   "outputs": [
    {
     "name": "stdout",
     "output_type": "stream",
     "text": [
      "PRI_0: (99913, 8)\n",
      "PRI_1: (77544, 9)\n",
      "PRI_23: (72543, 13)\n"
     ]
    }
   ],
   "source": [
    "print(\"PRI_0: {}\".format(X_pri_0.shape))\n",
    "print(\"PRI_1: {}\".format(X_pri_1.shape))\n",
    "print(\"PRI_23: {}\".format(X_pri_23.shape))"
   ]
  },
  {
   "cell_type": "markdown",
   "metadata": {},
   "source": [
    "# Ridge Regression Models for 2 subsets"
   ]
  },
  {
   "cell_type": "markdown",
   "metadata": {},
   "source": [
    "## Choosing the right lambda"
   ]
  },
  {
   "cell_type": "code",
   "execution_count": 395,
   "metadata": {},
   "outputs": [
    {
     "data": {
      "text/plain": [
       "array([1.e-20, 1.e-19, 1.e-18, 1.e-17, 1.e-16, 1.e-15, 1.e-14, 1.e-13,\n",
       "       1.e-12, 1.e-11, 1.e-10, 1.e-09, 1.e-08, 1.e-07, 1.e-06, 1.e-05,\n",
       "       1.e-04, 1.e-03, 1.e-02, 1.e-01])"
      ]
     },
     "execution_count": 395,
     "metadata": {},
     "output_type": "execute_result"
    }
   ],
   "source": [
    "lambda_ = np.logspace(-20,-1,20)\n",
    "lambda_"
   ]
  },
  {
   "cell_type": "markdown",
   "metadata": {},
   "source": [
    "## Model training\n",
    "\n",
    "We increase the degrees that we get from least squares cross validation, since ridge regression does not suffer from rank deficieny. We choose the maximum degree we can have without divergence.\n",
    "\n",
    "### Training for PRI_0 subset\n",
    "\n",
    "Optimum degree = 12, lambda= 1e-14"
   ]
  },
  {
   "cell_type": "code",
   "execution_count": 396,
   "metadata": {},
   "outputs": [],
   "source": [
    "pars = {'lambda': lambda_}\n",
    "pri0_tr_acc, pri0_te_acc = cross_validation(y_pri_0, build_poly(X_pri_0, 12), 5, h_pars=pars, model='ridge')"
   ]
  },
  {
   "cell_type": "code",
   "execution_count": 397,
   "metadata": {},
   "outputs": [
    {
     "data": {
      "text/plain": [
       "<matplotlib.legend.Legend at 0x1220c8400>"
      ]
     },
     "execution_count": 397,
     "metadata": {},
     "output_type": "execute_result"
    },
    {
     "data": {
      "image/png": "[encoded data removed]",
      "text/plain": [
       "<matplotlib.figure.Figure at 0x120a28710>"
      ]
     },
     "metadata": {},
     "output_type": "display_data"
    }
   ],
   "source": [
    "plt.plot(pri0_tr_acc[:,0], pri0_tr_acc[:,1], label='Training Accuracy')\n",
    "plt.plot(pri0_te_acc[:,0], pri0_te_acc[:,1], label='Validation Accuracy')\n",
    "plt.xlabel('Lambda')\n",
    "plt.ylabel('Accuracy')\n",
    "plt.xscale('log')\n",
    "plt.legend()"
   ]
  },
  {
   "cell_type": "code",
   "execution_count": 398,
   "metadata": {},
   "outputs": [
    {
     "data": {
      "text/plain": [
       "array([[1.00000000e-20, 8.30067060e-01],\n",
       "       [1.00000000e-19, 8.30067060e-01],\n",
       "       [1.00000000e-18, 8.30067060e-01],\n",
       "       [1.00000000e-17, 8.30067060e-01],\n",
       "       [1.00000000e-16, 8.30257232e-01],\n",
       "       [1.00000000e-15, 8.30057051e-01],\n",
       "       [1.00000000e-14, 8.30477430e-01],\n",
       "       [1.00000000e-13, 8.30297268e-01],\n",
       "       [1.00000000e-12, 8.30237213e-01],\n",
       "       [1.00000000e-11, 8.30157141e-01],\n",
       "       [1.00000000e-10, 8.29826844e-01],\n",
       "       [1.00000000e-09, 8.30187168e-01],\n",
       "       [1.00000000e-08, 8.29886898e-01],\n",
       "       [1.00000000e-07, 8.30127114e-01],\n",
       "       [1.00000000e-06, 8.30287259e-01],\n",
       "       [1.00000000e-05, 8.30207186e-01],\n",
       "       [1.00000000e-04, 8.30107096e-01],\n",
       "       [1.00000000e-03, 8.29636673e-01],\n",
       "       [1.00000000e-02, 8.26894205e-01],\n",
       "       [1.00000000e-01, 8.20058052e-01]])"
      ]
     },
     "execution_count": 398,
     "metadata": {},
     "output_type": "execute_result"
    }
   ],
   "source": [
    "pri0_te_acc"
   ]
  },
  {
   "cell_type": "markdown",
   "metadata": {},
   "source": [
    "### Training for PRI_1 subset\n",
    "\n",
    "Optimum degree = 12, 1e-3"
   ]
  },
  {
   "cell_type": "code",
   "execution_count": 399,
   "metadata": {},
   "outputs": [],
   "source": [
    "pri1_tr_acc, pri1_te_acc = cross_validation(y_pri_1, build_poly(X_pri_1, 12), 5, h_pars=pars, model='ridge')"
   ]
  },
  {
   "cell_type": "code",
   "execution_count": 400,
   "metadata": {},
   "outputs": [
    {
     "data": {
      "text/plain": [
       "<matplotlib.legend.Legend at 0x11ccf4e80>"
      ]
     },
     "execution_count": 400,
     "metadata": {},
     "output_type": "execute_result"
    },
    {
     "data": {
      "image/png": "[encoded data removed]",
      "text/plain": [
       "<matplotlib.figure.Figure at 0x1221005c0>"
      ]
     },
     "metadata": {},
     "output_type": "display_data"
    }
   ],
   "source": [
    "plt.plot(pri1_tr_acc[:,0], pri1_tr_acc[:,1], label='Training Accuracy')\n",
    "plt.plot(pri1_te_acc[:,0], pri1_te_acc[:,1], label='Validation Accuracy')\n",
    "plt.xlabel('Lambda')\n",
    "plt.ylabel('Accuracy')\n",
    "plt.xscale('log')\n",
    "plt.legend()"
   ]
  },
  {
   "cell_type": "code",
   "execution_count": 401,
   "metadata": {},
   "outputs": [
    {
     "data": {
      "text/plain": [
       "array([[1.00000000e-20, 7.86677844e-01],\n",
       "       [1.00000000e-19, 7.86677844e-01],\n",
       "       [1.00000000e-18, 7.86677844e-01],\n",
       "       [1.00000000e-17, 7.86677844e-01],\n",
       "       [1.00000000e-16, 7.86523085e-01],\n",
       "       [1.00000000e-15, 7.86497292e-01],\n",
       "       [1.00000000e-14, 7.86961568e-01],\n",
       "       [1.00000000e-13, 7.86742327e-01],\n",
       "       [1.00000000e-12, 7.86574671e-01],\n",
       "       [1.00000000e-11, 7.86407016e-01],\n",
       "       [1.00000000e-10, 7.86729430e-01],\n",
       "       [1.00000000e-09, 7.86329636e-01],\n",
       "       [1.00000000e-08, 7.86793913e-01],\n",
       "       [1.00000000e-07, 7.86523085e-01],\n",
       "       [1.00000000e-06, 7.86394119e-01],\n",
       "       [1.00000000e-05, 7.86716533e-01],\n",
       "       [1.00000000e-04, 7.86690740e-01],\n",
       "       [1.00000000e-03, 7.87812742e-01],\n",
       "       [1.00000000e-02, 7.81725561e-01],\n",
       "       [1.00000000e-01, 7.56538561e-01]])"
      ]
     },
     "execution_count": 401,
     "metadata": {},
     "output_type": "execute_result"
    }
   ],
   "source": [
    "pri1_te_acc"
   ]
  },
  {
   "cell_type": "markdown",
   "metadata": {},
   "source": [
    "### Training for PRI_23 subset\n",
    "\n",
    "Optimum degree = 11, 1e-5"
   ]
  },
  {
   "cell_type": "code",
   "execution_count": 402,
   "metadata": {},
   "outputs": [],
   "source": [
    "pri23_tr_acc, pri23_te_acc = cross_validation(y_pri_23, build_poly(X_pri_23, 11), 5, h_pars=pars, model='ridge')"
   ]
  },
  {
   "cell_type": "code",
   "execution_count": 403,
   "metadata": {},
   "outputs": [
    {
     "data": {
      "text/plain": [
       "<matplotlib.legend.Legend at 0x11f2aef28>"
      ]
     },
     "execution_count": 403,
     "metadata": {},
     "output_type": "execute_result"
    },
    {
     "data": {
      "image/png": "[encoded data removed]",
      "text/plain": [
       "<matplotlib.figure.Figure at 0x11f3a7630>"
      ]
     },
     "metadata": {},
     "output_type": "display_data"
    }
   ],
   "source": [
    "plt.plot(pri23_tr_acc[:,0], pri23_tr_acc[:,1], label='Training Accuracy')\n",
    "plt.plot(pri23_te_acc[:,0], pri23_te_acc[:,1], label='Validation Accuracy')\n",
    "plt.xlabel('Lambda')\n",
    "plt.ylabel('Accuracy')\n",
    "plt.xscale('log')\n",
    "plt.legend()"
   ]
  },
  {
   "cell_type": "code",
   "execution_count": 404,
   "metadata": {},
   "outputs": [
    {
     "data": {
      "text/plain": [
       "array([[1.00000000e-20, 8.20871243e-01],\n",
       "       [1.00000000e-19, 8.20871243e-01],\n",
       "       [1.00000000e-18, 8.20871243e-01],\n",
       "       [1.00000000e-17, 8.20871243e-01],\n",
       "       [1.00000000e-16, 8.20912600e-01],\n",
       "       [1.00000000e-15, 8.20692032e-01],\n",
       "       [1.00000000e-14, 8.20609319e-01],\n",
       "       [1.00000000e-13, 8.20816101e-01],\n",
       "       [1.00000000e-12, 8.20857458e-01],\n",
       "       [1.00000000e-11, 8.20664461e-01],\n",
       "       [1.00000000e-10, 8.20774745e-01],\n",
       "       [1.00000000e-09, 8.20857458e-01],\n",
       "       [1.00000000e-08, 8.20816101e-01],\n",
       "       [1.00000000e-07, 8.20816101e-01],\n",
       "       [1.00000000e-06, 8.20829887e-01],\n",
       "       [1.00000000e-05, 8.20981527e-01],\n",
       "       [1.00000000e-04, 8.20843672e-01],\n",
       "       [1.00000000e-03, 8.20981527e-01],\n",
       "       [1.00000000e-02, 8.17245658e-01],\n",
       "       [1.00000000e-01, 7.86007720e-01]])"
      ]
     },
     "execution_count": 404,
     "metadata": {},
     "output_type": "execute_result"
    }
   ],
   "source": [
    "pri23_te_acc"
   ]
  },
  {
   "cell_type": "markdown",
   "metadata": {},
   "source": [
    "# Models"
   ]
  },
  {
   "cell_type": "code",
   "execution_count": 406,
   "metadata": {},
   "outputs": [
    {
     "name": "stdout",
     "output_type": "stream",
     "text": [
      "0.2453471109443536\n",
      "0.31070397148498785\n",
      "0.27521061691433657\n"
     ]
    }
   ],
   "source": [
    "w0, loss0 = ridge_regression(y_pri_0, build_poly(X_pri_0, 12), 1e-14)\n",
    "w1, loss1 = ridge_regression(y_pri_1, build_poly(X_pri_1, 12), 1e-3)\n",
    "w23, loss23 = ridge_regression(y_pri_23, build_poly(X_pri_23, 11), 1e-5)\n",
    "print(loss0)\n",
    "print(loss1)\n",
    "print(loss23)\n",
    "np.save('w0', w0)\n",
    "np.save('w1', w1)\n",
    "np.save('w23', w23)"
   ]
  }
 ],
 "metadata": {
  "kernelspec": {
   "display_name": "Python 3",
   "language": "python",
   "name": "python3"
  },
  "language_info": {
   "codemirror_mode": {
    "name": "ipython",
    "version": 3
   },
   "file_extension": ".py",
   "mimetype": "text/x-python",
   "name": "python",
   "nbconvert_exporter": "python",
   "pygments_lexer": "ipython3",
   "version": "3.6.4"
  }
 },
 "nbformat": 4,
 "nbformat_minor": 2
}
