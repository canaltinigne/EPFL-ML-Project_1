{
 "cells": [
  {
   "cell_type": "code",
   "execution_count": 1,
   "metadata": {
    "scrolled": true
   },
   "outputs": [
    {
     "name": "stdout",
     "output_type": "stream",
     "text": [
      "(250000, 15)\n",
      "(250000,)\n"
     ]
    }
   ],
   "source": [
    "import numpy as np\n",
    "from cross_validation import cross_validation\n",
    "\n",
    "X_train = np.load(\"pure_features.npy\")\n",
    "y_train = np.load(\"log_y.npy\")\n",
    "print(X_train.shape)\n",
    "print(y_train.shape)"
   ]
  },
  {
   "cell_type": "code",
   "execution_count": 2,
   "metadata": {},
   "outputs": [
    {
     "data": {
      "text/plain": [
       "array([1., 0., 0., ..., 1., 0., 0.])"
      ]
     },
     "execution_count": 2,
     "metadata": {},
     "output_type": "execute_result"
    }
   ],
   "source": [
    "y_train"
   ]
  },
  {
   "cell_type": "markdown",
   "metadata": {},
   "source": [
    "# 1) Data Imputation"
   ]
  },
  {
   "cell_type": "code",
   "execution_count": 3,
   "metadata": {},
   "outputs": [],
   "source": [
    "for i in range(X_train.shape[1]):\n",
    "    X_train[np.where(X_train[:,i] == -999)[0], i] = np.median(X_train[np.where(X_train[:,i] != -999)[0], i])"
   ]
  },
  {
   "cell_type": "markdown",
   "metadata": {},
   "source": [
    "# 2) Polynomial Features"
   ]
  },
  {
   "cell_type": "code",
   "execution_count": 4,
   "metadata": {},
   "outputs": [
    {
     "data": {
      "text/plain": [
       "(250000, 105)"
      ]
     },
     "execution_count": 4,
     "metadata": {},
     "output_type": "execute_result"
    }
   ],
   "source": [
    "degree = 7\n",
    "\n",
    "for i in range(X_train.shape[1]):\n",
    "    for j in range(2, degree+1):\n",
    "        new_col = X_train[:,i]**j\n",
    "        X_train = np.column_stack((X_train, new_col))\n",
    "\n",
    "X_train.shape"
   ]
  },
  {
   "cell_type": "code",
   "execution_count": 5,
   "metadata": {},
   "outputs": [
    {
     "name": "stdout",
     "output_type": "stream",
     "text": [
      "X_train rank: 6\n",
      "(250000, 105)\n"
     ]
    }
   ],
   "source": [
    "# Rank of train set must be equal to the feature number\n",
    "# in order not to have Rank deficiency veya ill condition.\n",
    "\n",
    "print(\"X_train rank: {}\".format(np.linalg.matrix_rank(X_train)))\n",
    "print(X_train.shape)"
   ]
  },
  {
   "cell_type": "markdown",
   "metadata": {},
   "source": [
    "# 3) Data Normalization"
   ]
  },
  {
   "cell_type": "code",
   "execution_count": 6,
   "metadata": {
    "scrolled": true
   },
   "outputs": [
    {
     "name": "stdout",
     "output_type": "stream",
     "text": [
      "0.0\n",
      "1.0\n"
     ]
    }
   ],
   "source": [
    "# In the test section\n",
    "for i in range(X_train.shape[1]):\n",
    "    col_val = X_train[:, i]\n",
    "    X_train[:, i] = (col_val - np.min(col_val)) / (np.max(col_val) - np.min(col_val)) \n",
    "    \n",
    "print(X_train.min())\n",
    "print(X_train.max())"
   ]
  },
  {
   "cell_type": "code",
   "execution_count": 178,
   "metadata": {},
   "outputs": [
    {
     "data": {
      "text/plain": [
       "[<matplotlib.lines.Line2D at 0x175256e80>]"
      ]
     },
     "execution_count": 178,
     "metadata": {},
     "output_type": "execute_result"
    },
    {
     "data": {
      "image/png": "[encoded data removed]",
      "text/plain": [
       "<matplotlib.figure.Figure at 0x110cb54a8>"
      ]
     },
     "metadata": {},
     "output_type": "display_data"
    }
   ],
   "source": [
    "%matplotlib inline\n",
    "import matplotlib.pyplot as plt\n",
    "plt.plot(losses)"
   ]
  },
  {
   "cell_type": "code",
   "execution_count": 177,
   "metadata": {
    "scrolled": false
   },
   "outputs": [
    {
     "name": "stdout",
     "output_type": "stream",
     "text": [
      "100 iter completed\n",
      "100 iter completed\n",
      "100 iter completed\n",
      "100 iter completed\n",
      "100 iter completed\n",
      "100 iter completed\n",
      "100 iter completed\n",
      "100 iter completed\n",
      "100 iter completed\n",
      "100 iter completed\n",
      "100 iter completed\n",
      "100 iter completed\n",
      "100 iter completed\n",
      "100 iter completed\n",
      "100 iter completed\n",
      "100 iter completed\n",
      "100 iter completed\n",
      "100 iter completed\n",
      "100 iter completed\n",
      "100 iter completed\n",
      "100 iter completed\n",
      "100 iter completed\n",
      "100 iter completed\n",
      "100 iter completed\n",
      "100 iter completed\n",
      "100 iter completed\n",
      "100 iter completed\n",
      "100 iter completed\n",
      "100 iter completed\n",
      "100 iter completed\n",
      "100 iter completed\n",
      "100 iter completed\n",
      "100 iter completed\n",
      "100 iter completed\n",
      "100 iter completed\n",
      "100 iter completed\n",
      "100 iter completed\n",
      "100 iter completed\n",
      "100 iter completed\n",
      "100 iter completed\n",
      "100 iter completed\n",
      "100 iter completed\n",
      "100 iter completed\n",
      "100 iter completed\n",
      "100 iter completed\n",
      "100 iter completed\n",
      "100 iter completed\n",
      "100 iter completed\n",
      "100 iter completed\n",
      "100 iter completed\n",
      "100 iter completed\n",
      "100 iter completed\n",
      "100 iter completed\n",
      "100 iter completed\n",
      "100 iter completed\n",
      "100 iter completed\n",
      "100 iter completed\n",
      "100 iter completed\n",
      "100 iter completed\n",
      "100 iter completed\n",
      "100 iter completed\n",
      "100 iter completed\n",
      "100 iter completed\n",
      "100 iter completed\n",
      "100 iter completed\n",
      "100 iter completed\n",
      "100 iter completed\n",
      "100 iter completed\n",
      "100 iter completed\n",
      "100 iter completed\n",
      "100 iter completed\n",
      "100 iter completed\n",
      "100 iter completed\n",
      "100 iter completed\n",
      "100 iter completed\n",
      "100 iter completed\n",
      "100 iter completed\n",
      "100 iter completed\n",
      "100 iter completed\n",
      "100 iter completed\n",
      "100 iter completed\n",
      "100 iter completed\n",
      "100 iter completed\n",
      "100 iter completed\n",
      "100 iter completed\n",
      "100 iter completed\n",
      "100 iter completed\n",
      "100 iter completed\n",
      "100 iter completed\n",
      "100 iter completed\n",
      "100 iter completed\n",
      "100 iter completed\n",
      "100 iter completed\n",
      "100 iter completed\n",
      "100 iter completed\n",
      "100 iter completed\n",
      "100 iter completed\n",
      "100 iter completed\n",
      "100 iter completed\n",
      "100 iter completed\n"
     ]
    }
   ],
   "source": [
    "from implementations import logistic_regression\n",
    "np.random.seed(23)\n",
    "w, losses = logistic_regression(y_train, X_train, np.zeros(105), 10000, 6e-6)"
   ]
  },
  {
   "cell_type": "code",
   "execution_count": 197,
   "metadata": {},
   "outputs": [
    {
     "data": {
      "text/plain": [
       "array([0., 0., 0., ..., 0., 0., 0.])"
      ]
     },
     "execution_count": 197,
     "metadata": {},
     "output_type": "execute_result"
    }
   ],
   "source": [
    "from gradient import sigmoid\n",
    "predictions = sigmoid(np.dot(X_train, w))\n",
    "predictions[predictions > 0.5] = 1\n",
    "predictions[predictions <= 0.5] = 0\n",
    "predictions"
   ]
  },
  {
   "cell_type": "code",
   "execution_count": 198,
   "metadata": {},
   "outputs": [
    {
     "data": {
      "text/plain": [
       "array([1., 0., 0., ..., 1., 0., 0.])"
      ]
     },
     "execution_count": 198,
     "metadata": {},
     "output_type": "execute_result"
    }
   ],
   "source": [
    "y_train"
   ]
  },
  {
   "cell_type": "code",
   "execution_count": 199,
   "metadata": {},
   "outputs": [
    {
     "data": {
      "text/plain": [
       "0.753944"
      ]
     },
     "execution_count": 199,
     "metadata": {},
     "output_type": "execute_result"
    }
   ],
   "source": [
    "from cross_validation import accuracy\n",
    "\n",
    "accuracy(predictions, y_train)"
   ]
  },
  {
   "cell_type": "code",
   "execution_count": 165,
   "metadata": {},
   "outputs": [
    {
     "name": "stdout",
     "output_type": "stream",
     "text": [
      "Test_X shape: (568238, 30)\n",
      "\n",
      "Test_Y shape: (568238,)\n",
      "\n",
      "Column names: ['DER_mass_MMC' 'DER_mass_transverse_met_lep' 'DER_mass_vis' 'DER_pt_h'\n",
      " 'DER_deltaeta_jet_jet' 'DER_mass_jet_jet' 'DER_prodeta_jet_jet'\n",
      " 'DER_deltar_tau_lep' 'DER_pt_tot' 'DER_sum_pt' 'DER_pt_ratio_lep_tau'\n",
      " 'DER_met_phi_centrality' 'DER_lep_eta_centrality' 'PRI_tau_pt'\n",
      " 'PRI_tau_eta' 'PRI_tau_phi' 'PRI_lep_pt' 'PRI_lep_eta' 'PRI_lep_phi'\n",
      " 'PRI_met' 'PRI_met_phi' 'PRI_met_sumet' 'PRI_jet_num'\n",
      " 'PRI_jet_leading_pt' 'PRI_jet_leading_eta' 'PRI_jet_leading_phi'\n",
      " 'PRI_jet_subleading_pt' 'PRI_jet_subleading_eta' 'PRI_jet_subleading_phi'\n",
      " 'PRI_jet_all_pt']\n",
      "\n",
      "Column shape: (30,)\n"
     ]
    }
   ],
   "source": [
    "from proj1_helpers import load_csv_data\n",
    "\n",
    "test_set = load_csv_data('../test.csv')\n",
    "y_test, X_test, ids, columns = test_set\n",
    "\n",
    "print(\"Test_X shape: {}\".format(X_test.shape))\n",
    "print(\"\\nTest_Y shape: {}\".format(y_test.shape))\n",
    "print(\"\\nColumn names: {}\".format(columns))\n",
    "print(\"\\nColumn shape: {}\".format(columns.shape))\n",
    "\n",
    "n_features = len(columns)"
   ]
  },
  {
   "cell_type": "code",
   "execution_count": 166,
   "metadata": {},
   "outputs": [
    {
     "data": {
      "text/plain": [
       "(568238, 15)"
      ]
     },
     "execution_count": 166,
     "metadata": {},
     "output_type": "execute_result"
    }
   ],
   "source": [
    "selected_features = np.sort([0,4,5,6,12,23,3,9,11,1,10,13,21,22,29])\n",
    "X_test = X_test[:, selected_features]\n",
    "X_test.shape"
   ]
  },
  {
   "cell_type": "code",
   "execution_count": 167,
   "metadata": {},
   "outputs": [
    {
     "data": {
      "text/plain": [
       "(568238, 15)"
      ]
     },
     "execution_count": 167,
     "metadata": {},
     "output_type": "execute_result"
    }
   ],
   "source": [
    "for i in range(X_test.shape[1]):\n",
    "    X_test[np.where(X_test[:,i] == -999)[0], i] = np.median(X_test[np.where(X_test[:,i] != -999)[0], i])\n",
    "    \n",
    "X_test.shape"
   ]
  },
  {
   "cell_type": "code",
   "execution_count": 168,
   "metadata": {},
   "outputs": [
    {
     "data": {
      "text/plain": [
       "(568238, 15)"
      ]
     },
     "execution_count": 168,
     "metadata": {},
     "output_type": "execute_result"
    }
   ],
   "source": [
    "log_transformed_columns = [3,9,13,21,29,5,23]\n",
    "dummy = np.zeros(X_test.shape[0]).reshape(X_test.shape[0], -1)\n",
    "\n",
    "for x, i in enumerate(selected_features):\n",
    "    \n",
    "    added_column = np.zeros(X_test.shape[0])\n",
    "    \n",
    "    if i in log_transformed_columns:\n",
    "        if i in [5,23]:\n",
    "            added_column[np.where(X_test[:,x] != -999)] = np.log(X_test[np.where(X_test[:,x] != -999),x] + 1)\n",
    "            added_column[np.where(X_test[:,x] == -999)] = -999\n",
    "        else:\n",
    "            added_column = np.log(X_test[:, x] + 1)\n",
    "    else:\n",
    "        added_column = X_test[:, x]\n",
    "        \n",
    "    dummy = np.column_stack((dummy, added_column))\n",
    "\n",
    "X_test = np.delete(dummy,0,1)\n",
    "X_test.shape"
   ]
  },
  {
   "cell_type": "code",
   "execution_count": 169,
   "metadata": {},
   "outputs": [
    {
     "data": {
      "text/plain": [
       "(568238, 105)"
      ]
     },
     "execution_count": 169,
     "metadata": {},
     "output_type": "execute_result"
    }
   ],
   "source": [
    "degree = 7\n",
    "\n",
    "for i in range(X_test.shape[1]):\n",
    "    for j in range(2, degree+1):\n",
    "        new_col = X_test[:,i]**j\n",
    "        X_test = np.column_stack((X_test, new_col))\n",
    "\n",
    "X_test.shape"
   ]
  },
  {
   "cell_type": "code",
   "execution_count": 170,
   "metadata": {},
   "outputs": [
    {
     "name": "stdout",
     "output_type": "stream",
     "text": [
      "(568238, 105)\n",
      "0.0\n",
      "1.0\n"
     ]
    }
   ],
   "source": [
    "for i in range(X_test.shape[1]):\n",
    "    col_val = X_test[:, i]\n",
    "    X_test[:, i] = (X_test[:, i] - np.min(col_val)) / (np.max(col_val) - np.min(col_val)) \n",
    "    \n",
    "print(X_test.shape)\n",
    "print(X_test.min())\n",
    "print(X_test.max())"
   ]
  },
  {
   "cell_type": "code",
   "execution_count": 172,
   "metadata": {},
   "outputs": [
    {
     "data": {
      "text/plain": [
       "array([-1., -1.,  1., ..., -1.,  1., -1.])"
      ]
     },
     "execution_count": 172,
     "metadata": {},
     "output_type": "execute_result"
    }
   ],
   "source": [
    "predictions"
   ]
  },
  {
   "cell_type": "code",
   "execution_count": 171,
   "metadata": {},
   "outputs": [],
   "source": [
    "predictions = sigmoid(np.dot(X_test, w))\n",
    "predictions[predictions >= 0.45] = 1\n",
    "predictions[predictions < 0.45] = 0\n",
    "predictions[predictions == 0] = -1"
   ]
  },
  {
   "cell_type": "code",
   "execution_count": 173,
   "metadata": {},
   "outputs": [],
   "source": [
    "from proj1_helpers import create_csv_submission\n",
    "\n",
    "create_csv_submission(ids, predictions, 'output.csv')"
   ]
  },
  {
   "cell_type": "markdown",
   "metadata": {},
   "source": [
    "1) threshold = 0.4, 7 degree polynomial, test set normalization w/ test set values, imputation, 0.72216\n",
    "\n",
    "2) threshold = 0.45, 7 degree polynomial, test set normalization w/ test set values, 5000epoch imputation, 0.72216\n",
    "\n"
   ]
  },
  {
   "cell_type": "code",
   "execution_count": null,
   "metadata": {},
   "outputs": [],
   "source": []
  }
 ],
 "metadata": {
  "kernelspec": {
   "display_name": "Python 3",
   "language": "python",
   "name": "python3"
  },
  "language_info": {
   "codemirror_mode": {
    "name": "ipython",
    "version": 3
   },
   "file_extension": ".py",
   "mimetype": "text/x-python",
   "name": "python",
   "nbconvert_exporter": "python",
   "pygments_lexer": "ipython3",
   "version": "3.6.4"
  }
 },
 "nbformat": 4,
 "nbformat_minor": 2
}
