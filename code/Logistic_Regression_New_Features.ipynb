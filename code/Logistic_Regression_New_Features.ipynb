{
 "cells": [
  {
   "cell_type": "markdown",
   "metadata": {},
   "source": [
    "# Logistic Regression Models"
   ]
  },
  {
   "cell_type": "code",
   "execution_count": 1,
   "metadata": {},
   "outputs": [],
   "source": [
    "%matplotlib inline\n",
    "import numpy as np\n",
    "from cross_validation import cross_validation\n",
    "from polynomial import build_poly\n",
    "import matplotlib.pyplot as plt\n",
    "from implementations import logistic_regression\n",
    "from proj1_helpers import predict_labels\n",
    "from cross_validation import accuracy"
   ]
  },
  {
   "cell_type": "code",
   "execution_count": 2,
   "metadata": {},
   "outputs": [
    {
     "name": "stdout",
     "output_type": "stream",
     "text": [
      "(250000, 13)\n",
      "(250000,)\n"
     ]
    }
   ],
   "source": [
    "X_train = np.load(\"X_train.npy\")\n",
    "y_train = np.load(\"y_train_10.npy\")\n",
    "print(X_train.shape)\n",
    "print(y_train.shape)"
   ]
  },
  {
   "cell_type": "markdown",
   "metadata": {},
   "source": [
    "# Splitting into 2 classifiers\n",
    "\n",
    "We split the dataset using PRI_jet_num column"
   ]
  },
  {
   "cell_type": "code",
   "execution_count": 3,
   "metadata": {},
   "outputs": [],
   "source": [
    "X_pri_01 = X_train[(X_train[:, -1] == 0) | (X_train[:, -1] == 1) ,:-1]\n",
    "X_pri_23 = X_train[(X_train[:, -1] == 2) | (X_train[:, -1] == 3),:-1]\n",
    "\n",
    "y_pri_01 = y_train[(X_train[:, -1] == 0) | (X_train[:, -1] == 1)].reshape(-1,1)\n",
    "y_pri_23 = y_train[(X_train[:, -1] == 2) | (X_train[:, -1] == 3)].reshape(-1,1)"
   ]
  },
  {
   "cell_type": "code",
   "execution_count": 4,
   "metadata": {},
   "outputs": [
    {
     "name": "stdout",
     "output_type": "stream",
     "text": [
      "PRI_01: (177457, 12)\n",
      "PRI_23: (72543, 12)\n",
      "\n",
      "y_PRI_01: (177457, 1)\n",
      "y_PRI_23: (72543, 1)\n"
     ]
    }
   ],
   "source": [
    "print(\"PRI_01: {}\".format(X_pri_01.shape))\n",
    "print(\"PRI_23: {}\".format(X_pri_23.shape))\n",
    "\n",
    "print(\"\\ny_PRI_01: {}\".format(y_pri_01.shape))\n",
    "print(\"y_PRI_23: {}\".format(y_pri_23.shape))"
   ]
  },
  {
   "cell_type": "code",
   "execution_count": 5,
   "metadata": {},
   "outputs": [
    {
     "name": "stdout",
     "output_type": "stream",
     "text": [
      "[ 0  1  3  4  5  6  9 10 11 12 13 21 22]\n"
     ]
    }
   ],
   "source": [
    "selected_features = np.array([1,3,9,10,11,13,21,22])\n",
    "selected_features = np.sort(np.append(selected_features, [0,4,5,6,12]))\n",
    "print(selected_features)"
   ]
  },
  {
   "cell_type": "code",
   "execution_count": 6,
   "metadata": {},
   "outputs": [
    {
     "data": {
      "text/plain": [
       "[3, 4, 5, 9]"
      ]
     },
     "execution_count": 6,
     "metadata": {},
     "output_type": "execute_result"
    }
   ],
   "source": [
    "delete_columns = []\n",
    "\n",
    "for i in range(X_pri_01.shape[1]):\n",
    "    if np.isin(True, (X_pri_01[:,i] == -999)):\n",
    "        delete_columns.append(i)\n",
    "        \n",
    "delete_columns"
   ]
  },
  {
   "cell_type": "code",
   "execution_count": 7,
   "metadata": {},
   "outputs": [
    {
     "data": {
      "text/plain": [
       "(177457, 8)"
      ]
     },
     "execution_count": 7,
     "metadata": {},
     "output_type": "execute_result"
    }
   ],
   "source": [
    "X_pri_01 = np.delete(X_pri_01, np.s_[delete_columns], axis=1)  \n",
    "X_pri_01.shape"
   ]
  },
  {
   "cell_type": "code",
   "execution_count": 8,
   "metadata": {},
   "outputs": [
    {
     "name": "stdout",
     "output_type": "stream",
     "text": [
      "PRI_01: (177457, 8)\n",
      "PRI_23: (72543, 12)\n"
     ]
    }
   ],
   "source": [
    "print(\"PRI_01: {}\".format(X_pri_01.shape))\n",
    "print(\"PRI_23: {}\".format(X_pri_23.shape))"
   ]
  },
  {
   "cell_type": "markdown",
   "metadata": {},
   "source": [
    "# Logistic Regression Models w/ Gradient Descent for 2 subsets"
   ]
  },
  {
   "cell_type": "code",
   "execution_count": 9,
   "metadata": {},
   "outputs": [],
   "source": [
    "degrees = np.linspace(2, 10, 9).astype(int)\n",
    "max_iter = [1000]\n",
    "gamma = [1e-5]\n",
    "\n",
    "pars = {'degrees': degrees,\n",
    "       'max_iter': max_iter,\n",
    "       'gamma': gamma}"
   ]
  },
  {
   "cell_type": "markdown",
   "metadata": {},
   "source": [
    "# Model training\n",
    "\n",
    "### Training for PRI_01 subset\n",
    "\n",
    "degree=9, gam=1e-5"
   ]
  },
  {
   "cell_type": "code",
   "execution_count": 10,
   "metadata": {
    "scrolled": false
   },
   "outputs": [
    {
     "name": "stdout",
     "output_type": "stream",
     "text": [
      "deg:2-itr:1000-gam:1e-05 completed\n",
      "deg:3-itr:1000-gam:1e-05 completed\n",
      "deg:4-itr:1000-gam:1e-05 completed\n",
      "deg:5-itr:1000-gam:1e-05 completed\n",
      "deg:6-itr:1000-gam:1e-05 completed\n",
      "deg:7-itr:1000-gam:1e-05 completed\n",
      "deg:8-itr:1000-gam:1e-05 completed\n",
      "deg:9-itr:1000-gam:1e-05 completed\n",
      "deg:10-itr:1000-gam:1e-05 completed\n"
     ]
    }
   ],
   "source": [
    "pri01_tr_acc, pri01_te_acc = cross_validation(y_pri_01, X_pri_01, 3, h_pars=pars, model='log')"
   ]
  },
  {
   "cell_type": "code",
   "execution_count": 11,
   "metadata": {},
   "outputs": [
    {
     "data": {
      "text/plain": [
       "array([[1.00000000e+03, 1.00000000e-05, 2.00000000e+00, 5.10961847e-01],\n",
       "       [1.00000000e+03, 1.00000000e-05, 3.00000000e+00, 5.12251586e-01],\n",
       "       [1.00000000e+03, 1.00000000e-05, 4.00000000e+00, 5.10809610e-01],\n",
       "       [1.00000000e+03, 1.00000000e-05, 5.00000000e+00, 5.11998400e-01],\n",
       "       [1.00000000e+03, 1.00000000e-05, 6.00000000e+00, 5.11236277e-01],\n",
       "       [1.00000000e+03, 1.00000000e-05, 7.00000000e+00, 5.10875625e-01],\n",
       "       [1.00000000e+03, 1.00000000e-05, 8.00000000e+00, 5.11098174e-01],\n",
       "       [1.00000000e+03, 1.00000000e-05, 9.00000000e+00, 5.10540472e-01],\n",
       "       [1.00000000e+03, 1.00000000e-05, 1.00000000e+01, 5.10585970e-01]])"
      ]
     },
     "execution_count": 11,
     "metadata": {},
     "output_type": "execute_result"
    }
   ],
   "source": [
    "pri01_te_acc "
   ]
  },
  {
   "cell_type": "code",
   "execution_count": 13,
   "metadata": {},
   "outputs": [
    {
     "data": {
      "text/plain": [
       "<matplotlib.legend.Legend at 0x10d3c9400>"
      ]
     },
     "execution_count": 13,
     "metadata": {},
     "output_type": "execute_result"
    },
    {
     "data": {
      "image/png": "[encoded data removed]",
      "text/plain": [
       "<matplotlib.figure.Figure at 0x10b8b7400>"
      ]
     },
     "metadata": {},
     "output_type": "display_data"
    }
   ],
   "source": [
    "plt.plot(pri01_tr_acc[:,2], pri01_tr_acc[:,3], label='Training Loss')\n",
    "plt.plot(pri01_te_acc[:,2], pri01_te_acc[:,3], label='Validation Loss')\n",
    "plt.xlabel('Degree')\n",
    "plt.ylabel('Log-Loss')\n",
    "plt.legend()"
   ]
  },
  {
   "cell_type": "code",
   "execution_count": 20,
   "metadata": {},
   "outputs": [],
   "source": [
    "np.random.seed(23)\n",
    "initial_w = np.random.normal(0,1,build_poly(X_pri_01, 9).shape[1]).reshape(-1,1)\n",
    "w, losses = logistic_regression(y_pri_01, build_poly(X_pri_01, 9), initial_w, 14000, 1e-5)"
   ]
  },
  {
   "cell_type": "code",
   "execution_count": 22,
   "metadata": {},
   "outputs": [
    {
     "data": {
      "text/plain": [
       "[<matplotlib.lines.Line2D at 0x1084bde10>]"
      ]
     },
     "execution_count": 22,
     "metadata": {},
     "output_type": "execute_result"
    },
    {
     "data": {
      "image/png": "[encoded data removed]",
      "text/plain": [
       "<matplotlib.figure.Figure at 0x1084a5e10>"
      ]
     },
     "metadata": {},
     "output_type": "display_data"
    }
   ],
   "source": [
    "plt.plot(losses)"
   ]
  },
  {
   "cell_type": "code",
   "execution_count": 23,
   "metadata": {},
   "outputs": [
    {
     "name": "stdout",
     "output_type": "stream",
     "text": [
      "Training acc: 0.768157919946804\n"
     ]
    }
   ],
   "source": [
    "y_ = predict_labels(w, build_poly(X_pri_01, 9), model='log')\n",
    "y_[y_ == -1] = 0\n",
    "print(\"Training acc: {}\".format(accuracy(y_, y_pri_01)))"
   ]
  },
  {
   "cell_type": "markdown",
   "metadata": {},
   "source": [
    "### Training for PRI_23 subset\n",
    "\n",
    "degree=9, gam=1e-5"
   ]
  },
  {
   "cell_type": "code",
   "execution_count": 25,
   "metadata": {},
   "outputs": [
    {
     "name": "stdout",
     "output_type": "stream",
     "text": [
      "deg:2-itr:1000-gam:1e-05 completed\n",
      "deg:3-itr:1000-gam:1e-05 completed\n",
      "deg:4-itr:1000-gam:1e-05 completed\n",
      "deg:5-itr:1000-gam:1e-05 completed\n",
      "deg:6-itr:1000-gam:1e-05 completed\n",
      "deg:7-itr:1000-gam:1e-05 completed\n",
      "deg:8-itr:1000-gam:1e-05 completed\n",
      "deg:9-itr:1000-gam:1e-05 completed\n",
      "deg:10-itr:1000-gam:1e-05 completed\n"
     ]
    }
   ],
   "source": [
    "pri23_tr_acc, pri23_te_acc = cross_validation(y_pri_23, X_pri_23, 3, h_pars=pars, model='log')"
   ]
  },
  {
   "cell_type": "code",
   "execution_count": 26,
   "metadata": {},
   "outputs": [
    {
     "data": {
      "text/plain": [
       "array([[1.00000000e+03, 1.00000000e-05, 2.00000000e+00, 5.62598555e-01],\n",
       "       [1.00000000e+03, 1.00000000e-05, 3.00000000e+00, 5.54888096e-01],\n",
       "       [1.00000000e+03, 1.00000000e-05, 4.00000000e+00, 5.55521503e-01],\n",
       "       [1.00000000e+03, 1.00000000e-05, 5.00000000e+00, 5.53790683e-01],\n",
       "       [1.00000000e+03, 1.00000000e-05, 6.00000000e+00, 5.52573519e-01],\n",
       "       [1.00000000e+03, 1.00000000e-05, 7.00000000e+00, 5.51610105e-01],\n",
       "       [1.00000000e+03, 1.00000000e-05, 8.00000000e+00, 5.52549331e-01],\n",
       "       [1.00000000e+03, 1.00000000e-05, 9.00000000e+00, 5.50264163e-01],\n",
       "       [1.00000000e+03, 1.00000000e-05, 1.00000000e+01, 5.51339889e-01]])"
      ]
     },
     "execution_count": 26,
     "metadata": {},
     "output_type": "execute_result"
    }
   ],
   "source": [
    "pri23_te_acc"
   ]
  },
  {
   "cell_type": "code",
   "execution_count": 30,
   "metadata": {},
   "outputs": [
    {
     "data": {
      "text/plain": [
       "<matplotlib.legend.Legend at 0x10e2f15c0>"
      ]
     },
     "execution_count": 30,
     "metadata": {},
     "output_type": "execute_result"
    },
    {
     "data": {
      "image/png": "[encoded data removed]",
      "text/plain": [
       "<matplotlib.figure.Figure at 0x10da7e6a0>"
      ]
     },
     "metadata": {},
     "output_type": "display_data"
    }
   ],
   "source": [
    "plt.plot(pri23_tr_acc[:,2], pri23_tr_acc[:,3], label='Training Loss')\n",
    "plt.plot(pri23_te_acc[:,2], pri23_te_acc[:,3], label='Validation Loss')\n",
    "plt.xlabel('Degree')\n",
    "plt.ylabel('Log-Loss')\n",
    "plt.legend()"
   ]
  },
  {
   "cell_type": "code",
   "execution_count": 33,
   "metadata": {},
   "outputs": [],
   "source": [
    "np.random.seed(23)\n",
    "initial_w = np.random.normal(0,1,build_poly(X_pri_23, 9).shape[1]).reshape(-1,1)\n",
    "w, losses = logistic_regression(y_pri_23, build_poly(X_pri_23, 9), initial_w, 14000, 1e-5)"
   ]
  },
  {
   "cell_type": "code",
   "execution_count": 34,
   "metadata": {},
   "outputs": [
    {
     "data": {
      "text/plain": [
       "[<matplotlib.lines.Line2D at 0x10e491ac8>]"
      ]
     },
     "execution_count": 34,
     "metadata": {},
     "output_type": "execute_result"
    },
    {
     "data": {
      "image/png": "[encoded data removed]",
      "text/plain": [
       "<matplotlib.figure.Figure at 0x10da67390>"
      ]
     },
     "metadata": {},
     "output_type": "display_data"
    }
   ],
   "source": [
    "plt.plot(losses)"
   ]
  },
  {
   "cell_type": "code",
   "execution_count": 35,
   "metadata": {},
   "outputs": [
    {
     "name": "stdout",
     "output_type": "stream",
     "text": [
      "Training acc: 0.7322691369256854\n"
     ]
    }
   ],
   "source": [
    "y_ = predict_labels(w, build_poly(X_pri_23, 9), model='log')\n",
    "y_[y_ == -1] = 0\n",
    "print(\"Training acc: {}\".format(accuracy(y_, y_pri_23)))"
   ]
  }
 ],
 "metadata": {
  "kernelspec": {
   "display_name": "Python 3",
   "language": "python",
   "name": "python3"
  },
  "language_info": {
   "codemirror_mode": {
    "name": "ipython",
    "version": 3
   },
   "file_extension": ".py",
   "mimetype": "text/x-python",
   "name": "python",
   "nbconvert_exporter": "python",
   "pygments_lexer": "ipython3",
   "version": "3.6.4"
  }
 },
 "nbformat": 4,
 "nbformat_minor": 2
}
