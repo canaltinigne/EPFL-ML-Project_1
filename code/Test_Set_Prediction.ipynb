{
 "cells": [
  {
   "cell_type": "markdown",
   "metadata": {},
   "source": [
    "# Test Set Prediction"
   ]
  },
  {
   "cell_type": "code",
   "execution_count": 348,
   "metadata": {},
   "outputs": [],
   "source": [
    "%matplotlib inline\n",
    "import numpy as np\n",
    "from cross_validation import cross_validation\n",
    "from polynomial import build_poly\n",
    "import matplotlib.pyplot as plt\n",
    "from implementations import least_squares\n",
    "from proj1_helpers import load_csv_data\n",
    "from proj1_helpers import predict_labels\n",
    "from proj1_helpers import create_csv_submission"
   ]
  },
  {
   "cell_type": "code",
   "execution_count": 349,
   "metadata": {},
   "outputs": [
    {
     "name": "stdout",
     "output_type": "stream",
     "text": [
      "Test_X shape: (568238, 30)\n",
      "\n",
      "Test_Y shape: (568238,)\n",
      "\n",
      "Column names: ['DER_mass_MMC' 'DER_mass_transverse_met_lep' 'DER_mass_vis' 'DER_pt_h'\n",
      " 'DER_deltaeta_jet_jet' 'DER_mass_jet_jet' 'DER_prodeta_jet_jet'\n",
      " 'DER_deltar_tau_lep' 'DER_pt_tot' 'DER_sum_pt' 'DER_pt_ratio_lep_tau'\n",
      " 'DER_met_phi_centrality' 'DER_lep_eta_centrality' 'PRI_tau_pt'\n",
      " 'PRI_tau_eta' 'PRI_tau_phi' 'PRI_lep_pt' 'PRI_lep_eta' 'PRI_lep_phi'\n",
      " 'PRI_met' 'PRI_met_phi' 'PRI_met_sumet' 'PRI_jet_num'\n",
      " 'PRI_jet_leading_pt' 'PRI_jet_leading_eta' 'PRI_jet_leading_phi'\n",
      " 'PRI_jet_subleading_pt' 'PRI_jet_subleading_eta' 'PRI_jet_subleading_phi'\n",
      " 'PRI_jet_all_pt']\n",
      "\n",
      "Column shape: (30,)\n"
     ]
    }
   ],
   "source": [
    "test_set = load_csv_data('../test.csv')\n",
    "y_test, X_test, ids, columns = test_set\n",
    "\n",
    "print(\"Test_X shape: {}\".format(X_test.shape))\n",
    "print(\"\\nTest_Y shape: {}\".format(y_test.shape))\n",
    "print(\"\\nColumn names: {}\".format(columns))\n",
    "print(\"\\nColumn shape: {}\".format(columns.shape))\n",
    "\n",
    "n_features = len(columns)"
   ]
  },
  {
   "cell_type": "code",
   "execution_count": 350,
   "metadata": {},
   "outputs": [
    {
     "data": {
      "text/plain": [
       "array([ 0,  1,  3,  4,  5,  6,  9, 10, 11, 12, 13, 21, 22, 23])"
      ]
     },
     "execution_count": 350,
     "metadata": {},
     "output_type": "execute_result"
    }
   ],
   "source": [
    "selected_features = np.array([1,3,9,10,11,13,21,22,23])\n",
    "selected_features = np.sort(np.append(selected_features, [0,4,5,6,12]))\n",
    "selected_features"
   ]
  },
  {
   "cell_type": "markdown",
   "metadata": {},
   "source": [
    "## 1. Data Transformation "
   ]
  },
  {
   "cell_type": "code",
   "execution_count": 351,
   "metadata": {},
   "outputs": [
    {
     "data": {
      "text/plain": [
       "(568238, 30)"
      ]
     },
     "execution_count": 351,
     "metadata": {},
     "output_type": "execute_result"
    }
   ],
   "source": [
    "log_transformed_columns = [3,9,10,13,21]\n",
    "\n",
    "for i in log_transformed_columns:\n",
    "    X_test[np.where(X_test[:,i] != -999), i] = np.log(X_test[np.where(X_test[:,i] != -999),i] + 1)\n",
    "    X_test[np.where(X_test[:,i] == -999)] = -999\n",
    "\n",
    "X_test.shape"
   ]
  },
  {
   "cell_type": "markdown",
   "metadata": {},
   "source": [
    "## 2. Feature Selection "
   ]
  },
  {
   "cell_type": "code",
   "execution_count": 352,
   "metadata": {},
   "outputs": [
    {
     "data": {
      "text/plain": [
       "(568238, 14)"
      ]
     },
     "execution_count": 352,
     "metadata": {},
     "output_type": "execute_result"
    }
   ],
   "source": [
    "X_test = X_test[:, selected_features]\n",
    "X_test.shape"
   ]
  },
  {
   "cell_type": "markdown",
   "metadata": {},
   "source": [
    "## 3. Data Standartization\n",
    "\n",
    "Data standartization applied to data."
   ]
  },
  {
   "cell_type": "code",
   "execution_count": 353,
   "metadata": {},
   "outputs": [
    {
     "data": {
      "text/plain": [
       "(250000, 14)"
      ]
     },
     "execution_count": 353,
     "metadata": {},
     "output_type": "execute_result"
    }
   ],
   "source": [
    "X_train = np.load('X_train_not_normalized.npy')\n",
    "X_train.shape"
   ]
  },
  {
   "cell_type": "code",
   "execution_count": 354,
   "metadata": {},
   "outputs": [
    {
     "name": "stdout",
     "output_type": "stream",
     "text": [
      "(568238, 14)\n",
      "-999.0\n",
      "31.892941944610822\n"
     ]
    }
   ],
   "source": [
    "for i in [x for x in range(X_train.shape[1]) if x != 12]:\n",
    "    col_val = X_train[np.where(X_train[:,i] != -999), i]\n",
    "    X_test[np.where(X_test[:,i] != -999), i] = (X_test[np.where(X_test[:,i] != -999), i] - np.mean(col_val)) / (np.std(col_val)) \n",
    "    \n",
    "print(X_test.shape)\n",
    "print(X_test.min())\n",
    "print(X_test.max())"
   ]
  },
  {
   "cell_type": "code",
   "execution_count": 355,
   "metadata": {},
   "outputs": [
    {
     "data": {
      "text/plain": [
       "array([[-9.99000000e+02,  8.58660055e-01, -1.47857345e+00, ...,\n",
       "        -1.03674699e+00,  0.00000000e+00, -9.99000000e+02],\n",
       "       [-2.69826566e-01,  5.16346762e-01,  3.89240111e-01, ...,\n",
       "        -2.47999365e-02,  1.00000000e+00, -6.14009744e-01],\n",
       "       [-7.09366267e-02,  1.97657867e-01, -1.30094557e+00, ...,\n",
       "        -8.22238938e-01,  0.00000000e+00, -9.99000000e+02],\n",
       "       ...,\n",
       "       [-2.33193538e-01, -1.11481187e+00, -3.37540180e-01, ...,\n",
       "         9.37941259e-02,  0.00000000e+00, -9.99000000e+02],\n",
       "       [-4.38889995e-01, -8.27103476e-01,  1.70253195e-02, ...,\n",
       "         3.02151950e-01,  1.00000000e+00, -8.89503128e-01],\n",
       "       [-5.14599416e-01,  8.73372255e-01, -1.32321134e+00, ...,\n",
       "        -1.05761046e+00,  0.00000000e+00, -9.99000000e+02]])"
      ]
     },
     "execution_count": 355,
     "metadata": {},
     "output_type": "execute_result"
    }
   ],
   "source": [
    "X_test"
   ]
  },
  {
   "cell_type": "markdown",
   "metadata": {},
   "source": [
    "## 4. Data Imputation\n",
    "\n",
    "We impute DER_mass_MMC with median value"
   ]
  },
  {
   "cell_type": "code",
   "execution_count": 356,
   "metadata": {},
   "outputs": [
    {
     "name": "stdout",
     "output_type": "stream",
     "text": [
      "-1.9677211447574205\n",
      "31.892941944610822\n"
     ]
    }
   ],
   "source": [
    "X_test[np.where(X_test[:,0] == -999), 0] = np.median(X_test[np.where(X_test[:,0] != -999), 0])\n",
    "print(X_test[:,0].min())\n",
    "print(X_test[:,0].max())"
   ]
  },
  {
   "cell_type": "markdown",
   "metadata": {},
   "source": [
    "# Splitting into 3 test sets\n",
    "\n",
    "We split the dataset using PRI_jet_num column"
   ]
  },
  {
   "cell_type": "code",
   "execution_count": 357,
   "metadata": {},
   "outputs": [],
   "source": [
    "ids_pri_0 = np.where(X_test[:, -2] == 0)[0]\n",
    "ids_pri_1 = np.where(X_test[:, -2] == 1)[0]\n",
    "ids_pri_23 = np.where((X_test[:, -2] == 2) | (X_test[:, -2] == 3))[0]"
   ]
  },
  {
   "cell_type": "code",
   "execution_count": 358,
   "metadata": {},
   "outputs": [
    {
     "name": "stdout",
     "output_type": "stream",
     "text": [
      "PRI_0: (227458, 14)\n",
      "PRI_1: (175338, 14)\n",
      "PRI_23: (165442, 14)\n"
     ]
    }
   ],
   "source": [
    "X_pri_0 = X_test[(X_test[:, -2] == 0),:]\n",
    "X_pri_1 = X_test[(X_test[:, -2] == 1),:]\n",
    "X_pri_23 = X_test[(X_test[:, -2] == 2) | (X_test[:, -2] == 3),:]\n",
    "\n",
    "print(\"PRI_0: {}\".format(X_pri_0.shape))\n",
    "print(\"PRI_1: {}\".format(X_pri_1.shape))\n",
    "print(\"PRI_23: {}\".format(X_pri_23.shape))"
   ]
  },
  {
   "cell_type": "code",
   "execution_count": 359,
   "metadata": {},
   "outputs": [
    {
     "name": "stdout",
     "output_type": "stream",
     "text": [
      "PRI_0: (227458, 13)\n",
      "PRI_1: (175338, 13)\n",
      "PRI_23: (165442, 13)\n"
     ]
    }
   ],
   "source": [
    "X_pri_0 = np.delete(X_pri_0, np.s_[12], axis=1)\n",
    "X_pri_1 = np.delete(X_pri_1, np.s_[12], axis=1)\n",
    "X_pri_23 = np.delete(X_pri_23, np.s_[12], axis=1)\n",
    "\n",
    "print(\"PRI_0: {}\".format(X_pri_0.shape))\n",
    "print(\"PRI_1: {}\".format(X_pri_1.shape))\n",
    "print(\"PRI_23: {}\".format(X_pri_23.shape))"
   ]
  },
  {
   "cell_type": "code",
   "execution_count": 360,
   "metadata": {},
   "outputs": [
    {
     "name": "stdout",
     "output_type": "stream",
     "text": [
      "[ 0  1  3  4  5  6  9 10 11 12 13 21 23]\n"
     ]
    }
   ],
   "source": [
    "selected_features = np.array([1,3,9,10,11,13,21,23])\n",
    "selected_features = np.sort(np.append(selected_features, [0,4,5,6,12]))\n",
    "print(selected_features)"
   ]
  },
  {
   "cell_type": "code",
   "execution_count": 361,
   "metadata": {},
   "outputs": [
    {
     "data": {
      "text/plain": [
       "[3, 4, 5, 9, 12]"
      ]
     },
     "execution_count": 361,
     "metadata": {},
     "output_type": "execute_result"
    }
   ],
   "source": [
    "delete_columns_0 = []\n",
    "\n",
    "for i in range(X_pri_0.shape[1]):\n",
    "    if np.isin(True, (X_pri_0[:,i] == -999)):\n",
    "        delete_columns_0.append(i)\n",
    "        \n",
    "delete_columns_0"
   ]
  },
  {
   "cell_type": "code",
   "execution_count": 362,
   "metadata": {},
   "outputs": [
    {
     "data": {
      "text/plain": [
       "[3, 4, 5, 9]"
      ]
     },
     "execution_count": 362,
     "metadata": {},
     "output_type": "execute_result"
    }
   ],
   "source": [
    "delete_columns_1 = []\n",
    "\n",
    "for i in range(X_pri_1.shape[1]):\n",
    "    if np.isin(True, (X_pri_1[:,i] == -999)):\n",
    "        delete_columns_1.append(i)\n",
    "        \n",
    "delete_columns_1"
   ]
  },
  {
   "cell_type": "code",
   "execution_count": 363,
   "metadata": {},
   "outputs": [
    {
     "data": {
      "text/plain": [
       "(227458, 8)"
      ]
     },
     "execution_count": 363,
     "metadata": {},
     "output_type": "execute_result"
    }
   ],
   "source": [
    "X_pri_0 = np.delete(X_pri_0, np.s_[delete_columns_0], axis=1)  \n",
    "X_pri_0.shape"
   ]
  },
  {
   "cell_type": "code",
   "execution_count": 364,
   "metadata": {},
   "outputs": [
    {
     "data": {
      "text/plain": [
       "(175338, 9)"
      ]
     },
     "execution_count": 364,
     "metadata": {},
     "output_type": "execute_result"
    }
   ],
   "source": [
    "X_pri_1 = np.delete(X_pri_1, np.s_[delete_columns_1], axis=1)  \n",
    "X_pri_1.shape"
   ]
  },
  {
   "cell_type": "code",
   "execution_count": 365,
   "metadata": {},
   "outputs": [
    {
     "name": "stdout",
     "output_type": "stream",
     "text": [
      "PRI_0: (227458, 8)\n",
      "PRI_1: (175338, 9)\n",
      "PRI_23: (165442, 13)\n"
     ]
    }
   ],
   "source": [
    "print(\"PRI_0: {}\".format(X_pri_0.shape))\n",
    "print(\"PRI_1: {}\".format(X_pri_1.shape))\n",
    "print(\"PRI_23: {}\".format(X_pri_23.shape))"
   ]
  },
  {
   "cell_type": "markdown",
   "metadata": {},
   "source": [
    "# Predictions"
   ]
  },
  {
   "cell_type": "code",
   "execution_count": 366,
   "metadata": {},
   "outputs": [],
   "source": [
    "predictions = np.zeros(len(y_test))"
   ]
  },
  {
   "cell_type": "code",
   "execution_count": 367,
   "metadata": {},
   "outputs": [],
   "source": [
    "w0 = np.load('w0.npy')\n",
    "w1 = np.load('w1.npy')\n",
    "w23 = np.load('w23.npy')"
   ]
  },
  {
   "cell_type": "code",
   "execution_count": 368,
   "metadata": {},
   "outputs": [],
   "source": [
    "pri_0_y = predict_labels(w0, build_poly(X_pri_0, 12))\n",
    "pri_1_y = predict_labels(w1, build_poly(X_pri_1, 12))\n",
    "pri_23_y = predict_labels(w23, build_poly(X_pri_23, 11))"
   ]
  },
  {
   "cell_type": "code",
   "execution_count": 369,
   "metadata": {},
   "outputs": [],
   "source": [
    "predictions[ids_pri_0] = pri_0_y\n",
    "predictions[ids_pri_1] = pri_1_y\n",
    "predictions[ids_pri_23] = pri_23_y"
   ]
  },
  {
   "cell_type": "code",
   "execution_count": 370,
   "metadata": {},
   "outputs": [],
   "source": [
    "create_csv_submission(ids, predictions, 'output.csv')"
   ]
  }
 ],
 "metadata": {
  "kernelspec": {
   "display_name": "Python 3",
   "language": "python",
   "name": "python3"
  },
  "language_info": {
   "codemirror_mode": {
    "name": "ipython",
    "version": 3
   },
   "file_extension": ".py",
   "mimetype": "text/x-python",
   "name": "python",
   "nbconvert_exporter": "python",
   "pygments_lexer": "ipython3",
   "version": "3.6.4"
  }
 },
 "nbformat": 4,
 "nbformat_minor": 2
}
