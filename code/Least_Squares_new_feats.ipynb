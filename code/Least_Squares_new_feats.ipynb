{
 "cells": [
  {
   "cell_type": "code",
   "execution_count": 1,
   "metadata": {},
   "outputs": [],
   "source": [
    "import numpy as np\n",
    "from cross_validation import cross_validation\n",
    "from polynomial import build_poly"
   ]
  },
  {
   "cell_type": "code",
   "execution_count": 2,
   "metadata": {},
   "outputs": [
    {
     "name": "stdout",
     "output_type": "stream",
     "text": [
      "(250000, 13)\n",
      "(250000,)\n"
     ]
    }
   ],
   "source": [
    "X_train = np.load(\"X_train.npy\")\n",
    "y_train = np.load(\"y_train_1-1.npy\")\n",
    "print(X_train.shape)\n",
    "print(y_train.shape)"
   ]
  },
  {
   "cell_type": "markdown",
   "metadata": {},
   "source": [
    "# Splitting into 4 classifiers\n",
    "\n",
    "We split the dataset using PRI_jet_num column"
   ]
  },
  {
   "cell_type": "code",
   "execution_count": 3,
   "metadata": {},
   "outputs": [],
   "source": [
    "pri_0 = X_train[(X_train[:, -1] == 0),:-1]\n",
    "pri_1 = X_train[(X_train[:, -1] == 1),:-1]\n",
    "pri_2 = X_train[(X_train[:, -1] == 2),:-1]\n",
    "pri_3 = X_train[(X_train[:, -1] == 3),:-1]"
   ]
  },
  {
   "cell_type": "code",
   "execution_count": 4,
   "metadata": {},
   "outputs": [
    {
     "name": "stdout",
     "output_type": "stream",
     "text": [
      "PRI_0: (99913, 12)\n",
      "PRI_1: (77544, 12)\n",
      "PRI_2: (50379, 12)\n",
      "PRI_3: (22164, 12)\n"
     ]
    }
   ],
   "source": [
    "print(\"PRI_0: {}\".format(pri_0.shape))\n",
    "print(\"PRI_1: {}\".format(pri_1.shape))\n",
    "print(\"PRI_2: {}\".format(pri_2.shape))\n",
    "print(\"PRI_3: {}\".format(pri_3.shape))"
   ]
  },
  {
   "cell_type": "code",
   "execution_count": 5,
   "metadata": {},
   "outputs": [
    {
     "name": "stdout",
     "output_type": "stream",
     "text": [
      "[ 0  1  3  4  5  6  9 10 11 12 13 21 22]\n"
     ]
    }
   ],
   "source": [
    "selected_features = np.array([1,3,9,10,11,13,21,22])\n",
    "selected_features = np.sort(np.append(selected_features, [0,4,5,6,12]))\n",
    "print(selected_features)"
   ]
  },
  {
   "cell_type": "code",
   "execution_count": 6,
   "metadata": {},
   "outputs": [
    {
     "data": {
      "text/plain": [
       "[3, 4, 5, 9]"
      ]
     },
     "execution_count": 6,
     "metadata": {},
     "output_type": "execute_result"
    }
   ],
   "source": [
    "delete_columns = []\n",
    "\n",
    "for i in range(pri_0.shape[1]):\n",
    "    if np.isin(True, (pri_0[:,i] == -999)):\n",
    "        delete_columns.append(i)\n",
    "        \n",
    "delete_columns"
   ]
  },
  {
   "cell_type": "code",
   "execution_count": 7,
   "metadata": {},
   "outputs": [
    {
     "data": {
      "text/plain": [
       "(99913, 8)"
      ]
     },
     "execution_count": 7,
     "metadata": {},
     "output_type": "execute_result"
    }
   ],
   "source": [
    "pri_0 = np.delete(pri_0, np.s_[delete_columns], axis=1)  \n",
    "pri_0.shape"
   ]
  },
  {
   "cell_type": "code",
   "execution_count": 8,
   "metadata": {},
   "outputs": [
    {
     "data": {
      "text/plain": [
       "(77544, 8)"
      ]
     },
     "execution_count": 8,
     "metadata": {},
     "output_type": "execute_result"
    }
   ],
   "source": [
    "pri_1 = np.delete(pri_1, np.s_[delete_columns], axis=1)  \n",
    "pri_1.shape"
   ]
  },
  {
   "cell_type": "code",
   "execution_count": 9,
   "metadata": {},
   "outputs": [
    {
     "name": "stdout",
     "output_type": "stream",
     "text": [
      "PRI_0: (99913, 8)\n",
      "PRI_1: (77544, 8)\n",
      "PRI_2: (50379, 12)\n",
      "PRI_3: (22164, 12)\n"
     ]
    }
   ],
   "source": [
    "print(\"PRI_0: {}\".format(pri_0.shape))\n",
    "print(\"PRI_1: {}\".format(pri_1.shape))\n",
    "print(\"PRI_2: {}\".format(pri_2.shape))\n",
    "print(\"PRI_3: {}\".format(pri_3.shape))"
   ]
  },
  {
   "cell_type": "markdown",
   "metadata": {},
   "source": [
    "# Least Squares Models four 4 subsets"
   ]
  },
  {
   "cell_type": "code",
   "execution_count": 10,
   "metadata": {},
   "outputs": [
    {
     "data": {
      "text/plain": [
       "array([ 2.,  3.,  4.,  5.,  6.,  7.,  8.,  9., 10.])"
      ]
     },
     "execution_count": 10,
     "metadata": {},
     "output_type": "execute_result"
    }
   ],
   "source": [
    "degrees = np.linspace(2,10,9)\n",
    "degrees"
   ]
  },
  {
   "cell_type": "code",
   "execution_count": 15,
   "metadata": {},
   "outputs": [
    {
     "data": {
      "text/plain": [
       "37"
      ]
     },
     "execution_count": 15,
     "metadata": {},
     "output_type": "execute_result"
    }
   ],
   "source": [
    "np.linalg.matrix_rank(build_poly(pri_2, 3))"
   ]
  }
 ],
 "metadata": {
  "kernelspec": {
   "display_name": "Python 3",
   "language": "python",
   "name": "python3"
  },
  "language_info": {
   "codemirror_mode": {
    "name": "ipython",
    "version": 3
   },
   "file_extension": ".py",
   "mimetype": "text/x-python",
   "name": "python",
   "nbconvert_exporter": "python",
   "pygments_lexer": "ipython3",
   "version": "3.6.4"
  }
 },
 "nbformat": 4,
 "nbformat_minor": 2
}
